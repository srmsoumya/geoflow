{
 "cells": [
  {
   "cell_type": "code",
   "execution_count": 1,
   "metadata": {
    "Collapsed": "false",
    "execution": {
     "iopub.execute_input": "2020-11-07T08:10:00.098080Z",
     "iopub.status.busy": "2020-11-07T08:10:00.097758Z",
     "iopub.status.idle": "2020-11-07T08:10:00.099831Z",
     "shell.execute_reply": "2020-11-07T08:10:00.099461Z",
     "shell.execute_reply.started": "2020-11-07T07:40:17.962930Z"
    },
    "papermill": {
     "duration": 0.018203,
     "end_time": "2020-11-07T08:10:00.099906",
     "exception": false,
     "start_time": "2020-11-07T08:10:00.081703",
     "status": "completed"
    },
    "tags": [
     "parameters"
    ]
   },
   "outputs": [],
   "source": [
    "# Defaults\n",
    "REGION = 'fortportal'\n",
    "UTM = 32636\n",
    "PIPELINE = 'output'\n",
    "POP = 'grid_population'"
   ]
  },
  {
   "cell_type": "code",
   "execution_count": 2,
   "metadata": {
    "execution": {
     "iopub.execute_input": "2020-11-07T08:10:00.125346Z",
     "iopub.status.busy": "2020-11-07T08:10:00.125020Z",
     "iopub.status.idle": "2020-11-07T08:10:00.126950Z",
     "shell.execute_reply": "2020-11-07T08:10:00.126624Z"
    },
    "papermill": {
     "duration": 0.017611,
     "end_time": "2020-11-07T08:10:00.127023",
     "exception": false,
     "start_time": "2020-11-07T08:10:00.109412",
     "status": "completed"
    },
    "tags": [
     "injected-parameters"
    ]
   },
   "outputs": [],
   "source": [
    "# Parameters\n",
    "REGION = \"entebbe\"\n",
    "UTM = 32636\n",
    "POP = \"grid_population\"\n",
    "PIPELINE = \"query\"\n"
   ]
  },
  {
   "cell_type": "code",
   "execution_count": 3,
   "metadata": {
    "Collapsed": "false",
    "execution": {
     "iopub.execute_input": "2020-11-07T08:10:00.149684Z",
     "iopub.status.busy": "2020-11-07T08:10:00.149367Z",
     "iopub.status.idle": "2020-11-07T08:10:00.795860Z",
     "shell.execute_reply": "2020-11-07T08:10:00.795546Z",
     "shell.execute_reply.started": "2020-11-07T07:40:17.967333Z"
    },
    "papermill": {
     "duration": 0.659173,
     "end_time": "2020-11-07T08:10:00.795946",
     "exception": false,
     "start_time": "2020-11-07T08:10:00.136773",
     "status": "completed"
    },
    "tags": []
   },
   "outputs": [],
   "source": [
    "import pandas as pd\n",
    "import numpy as np\n",
    "import geopandas as gpd\n",
    "import matplotlib.pyplot as plt\n",
    "import seaborn as sns\n",
    "\n",
    "from datetime import datetime as dt\n",
    "from pathlib import Path\n",
    "\n",
    "plt.style.use('fivethirtyeight')\n",
    "%matplotlib inline"
   ]
  },
  {
   "cell_type": "code",
   "execution_count": 4,
   "metadata": {
    "Collapsed": "false",
    "execution": {
     "iopub.execute_input": "2020-11-07T08:10:00.822282Z",
     "iopub.status.busy": "2020-11-07T08:10:00.821887Z",
     "iopub.status.idle": "2020-11-07T08:10:00.823856Z",
     "shell.execute_reply": "2020-11-07T08:10:00.823529Z",
     "shell.execute_reply.started": "2020-11-07T07:40:18.589370Z"
    },
    "papermill": {
     "duration": 0.018316,
     "end_time": "2020-11-07T08:10:00.823930",
     "exception": false,
     "start_time": "2020-11-07T08:10:00.805614",
     "status": "completed"
    },
    "tags": []
   },
   "outputs": [],
   "source": [
    "CWD = Path('.')\n",
    "DATA = Path('data')\n",
    "\n",
    "INTER  = DATA/'inter'\n",
    "INPUT  = DATA/'input'\n",
    "OUTPUT = DATA/'output'"
   ]
  },
  {
   "cell_type": "code",
   "execution_count": 5,
   "metadata": {
    "Collapsed": "false",
    "execution": {
     "iopub.execute_input": "2020-11-07T08:10:00.845440Z",
     "iopub.status.busy": "2020-11-07T08:10:00.845124Z",
     "iopub.status.idle": "2020-11-07T08:10:00.964659Z",
     "shell.execute_reply": "2020-11-07T08:10:00.963599Z",
     "shell.execute_reply.started": "2020-11-07T07:40:18.593640Z"
    },
    "papermill": {
     "duration": 0.131402,
     "end_time": "2020-11-07T08:10:00.964934",
     "exception": false,
     "start_time": "2020-11-07T08:10:00.833532",
     "status": "completed"
    },
    "tags": []
   },
   "outputs": [
    {
     "name": "stdout",
     "output_type": "stream",
     "text": [
      "input  inter  output  output.zip\r\n"
     ]
    }
   ],
   "source": [
    "!ls {DATA}"
   ]
  },
  {
   "cell_type": "code",
   "execution_count": 6,
   "metadata": {
    "Collapsed": "false",
    "execution": {
     "iopub.execute_input": "2020-11-07T08:10:01.019415Z",
     "iopub.status.busy": "2020-11-07T08:10:01.019096Z",
     "iopub.status.idle": "2020-11-07T08:10:01.138910Z",
     "shell.execute_reply": "2020-11-07T08:10:01.137770Z",
     "shell.execute_reply.started": "2020-11-07T07:40:18.725182Z"
    },
    "papermill": {
     "duration": 0.141258,
     "end_time": "2020-11-07T08:10:01.139196",
     "exception": false,
     "start_time": "2020-11-07T08:10:00.997938",
     "status": "completed"
    },
    "tags": []
   },
   "outputs": [
    {
     "name": "stdout",
     "output_type": "stream",
     "text": [
      "entebbe_grids_output_4326.geojson\r\n"
     ]
    }
   ],
   "source": [
    "!ls {OUTPUT} | grep {REGION}"
   ]
  },
  {
   "cell_type": "code",
   "execution_count": 7,
   "metadata": {
    "Collapsed": "false",
    "execution": {
     "iopub.execute_input": "2020-11-07T08:10:01.309393Z",
     "iopub.status.busy": "2020-11-07T08:10:01.292102Z",
     "iopub.status.idle": "2020-11-07T08:10:01.951988Z",
     "shell.execute_reply": "2020-11-07T08:10:01.951669Z",
     "shell.execute_reply.started": "2020-11-07T07:40:18.867150Z"
    },
    "papermill": {
     "duration": 0.779405,
     "end_time": "2020-11-07T08:10:01.952078",
     "exception": false,
     "start_time": "2020-11-07T08:10:01.172673",
     "status": "completed"
    },
    "tags": []
   },
   "outputs": [],
   "source": [
    "grids_gdf = gpd.read_file(f'{OUTPUT}/{REGION}_grids_output_{4326}.geojson').to_crs(epsg=UTM)\n",
    "region = gpd.read_file(f'{INPUT/REGION}.geojson').to_crs(grids_gdf.crs)"
   ]
  },
  {
   "cell_type": "code",
   "execution_count": 8,
   "metadata": {
    "Collapsed": "false",
    "execution": {
     "iopub.execute_input": "2020-11-07T08:10:01.981090Z",
     "iopub.status.busy": "2020-11-07T08:10:01.980585Z",
     "iopub.status.idle": "2020-11-07T08:10:01.982891Z",
     "shell.execute_reply": "2020-11-07T08:10:01.983150Z",
     "shell.execute_reply.started": "2020-11-07T07:40:19.413141Z"
    },
    "papermill": {
     "duration": 0.020861,
     "end_time": "2020-11-07T08:10:01.983237",
     "exception": false,
     "start_time": "2020-11-07T08:10:01.962376",
     "status": "completed"
    },
    "tags": []
   },
   "outputs": [
    {
     "data": {
      "text/plain": [
       "(<Projected CRS: EPSG:32636>\n",
       " Name: WGS 84 / UTM zone 36N\n",
       " Axis Info [cartesian]:\n",
       " - E[east]: Easting (metre)\n",
       " - N[north]: Northing (metre)\n",
       " Area of Use:\n",
       " - name: World - N hemisphere - 30°E to 36°E - by country\n",
       " - bounds: (30.0, 0.0, 36.0, 84.0)\n",
       " Coordinate Operation:\n",
       " - name: UTM zone 36N\n",
       " - method: Transverse Mercator\n",
       " Datum: World Geodetic System 1984\n",
       " - Ellipsoid: WGS 84\n",
       " - Prime Meridian: Greenwich,\n",
       " <Projected CRS: EPSG:32636>\n",
       " Name: WGS 84 / UTM zone 36N\n",
       " Axis Info [cartesian]:\n",
       " - E[east]: Easting (metre)\n",
       " - N[north]: Northing (metre)\n",
       " Area of Use:\n",
       " - name: World - N hemisphere - 30°E to 36°E - by country\n",
       " - bounds: (30.0, 0.0, 36.0, 84.0)\n",
       " Coordinate Operation:\n",
       " - name: UTM zone 36N\n",
       " - method: Transverse Mercator\n",
       " Datum: World Geodetic System 1984\n",
       " - Ellipsoid: WGS 84\n",
       " - Prime Meridian: Greenwich)"
      ]
     },
     "execution_count": 8,
     "metadata": {},
     "output_type": "execute_result"
    }
   ],
   "source": [
    "region.crs, grids_gdf.crs"
   ]
  },
  {
   "cell_type": "code",
   "execution_count": 9,
   "metadata": {
    "Collapsed": "false",
    "execution": {
     "iopub.execute_input": "2020-11-07T08:10:02.006591Z",
     "iopub.status.busy": "2020-11-07T08:10:02.006266Z",
     "iopub.status.idle": "2020-11-07T08:10:02.007930Z",
     "shell.execute_reply": "2020-11-07T08:10:02.007607Z",
     "shell.execute_reply.started": "2020-11-07T07:40:19.419853Z"
    },
    "papermill": {
     "duration": 0.014668,
     "end_time": "2020-11-07T08:10:02.008000",
     "exception": false,
     "start_time": "2020-11-07T08:10:01.993332",
     "status": "completed"
    },
    "tags": []
   },
   "outputs": [],
   "source": [
    "def show(region, gdf, col):\n",
    "    fig, ax = plt.subplots(1,1,figsize=(10, 10))\n",
    "    ax.set_axis_off()\n",
    "    \n",
    "    gdf.plot(ax=ax, cmap='RdYlGn_r', alpha=0.8, column=col, scheme='percentiles', legend=True)\n",
    "    region.boundary.plot(ax=ax, color='darkgray', alpha=0.8)"
   ]
  },
  {
   "cell_type": "code",
   "execution_count": 10,
   "metadata": {
    "Collapsed": "false",
    "execution": {
     "iopub.execute_input": "2020-11-07T08:10:02.041901Z",
     "iopub.status.busy": "2020-11-07T08:10:02.041562Z",
     "iopub.status.idle": "2020-11-07T08:10:03.526592Z",
     "shell.execute_reply": "2020-11-07T08:10:03.526223Z",
     "shell.execute_reply.started": "2020-11-07T07:40:19.440396Z"
    },
    "papermill": {
     "duration": 1.508611,
     "end_time": "2020-11-07T08:10:03.526678",
     "exception": false,
     "start_time": "2020-11-07T08:10:02.018067",
     "status": "completed"
    },
    "tags": []
   },
   "outputs": [
    {
     "data": {
      "image/png": "[encoded data removed]",
      "text/plain": [
       "<Figure size 720x720 with 1 Axes>"
      ]
     },
     "metadata": {
      "needs_background": "light"
     },
     "output_type": "display_data"
    }
   ],
   "source": [
    "show(region, grids_gdf, POP)"
   ]
  },
  {
   "cell_type": "markdown",
   "metadata": {
    "Collapsed": "false",
    "papermill": {
     "duration": 0.011236,
     "end_time": "2020-11-07T08:10:03.549064",
     "exception": false,
     "start_time": "2020-11-07T08:10:03.537828",
     "status": "completed"
    },
    "tags": []
   },
   "source": [
    "### Analyse the population count data"
   ]
  },
  {
   "cell_type": "code",
   "execution_count": 11,
   "metadata": {
    "Collapsed": "false",
    "execution": {
     "iopub.execute_input": "2020-11-07T08:10:03.576905Z",
     "iopub.status.busy": "2020-11-07T08:10:03.576578Z",
     "iopub.status.idle": "2020-11-07T08:10:04.098949Z",
     "shell.execute_reply": "2020-11-07T08:10:04.098590Z",
     "shell.execute_reply.started": "2020-11-07T07:40:20.752681Z"
    },
    "papermill": {
     "duration": 0.536538,
     "end_time": "2020-11-07T08:10:04.099030",
     "exception": false,
     "start_time": "2020-11-07T08:10:03.562492",
     "status": "completed"
    },
    "tags": []
   },
   "outputs": [
    {
     "data": {
      "text/plain": [
       "<AxesSubplot:ylabel='Frequency'>"
      ]
     },
     "execution_count": 11,
     "metadata": {},
     "output_type": "execute_result"
    },
    {
     "data": {
      "image/png": "[encoded data removed]",
      "text/plain": [
       "<Figure size 432x288 with 1 Axes>"
      ]
     },
     "metadata": {
      "needs_background": "light"
     },
     "output_type": "display_data"
    }
   ],
   "source": [
    "grids_gdf.grid_population.plot(kind='hist', bins=100, logy=True)"
   ]
  },
  {
   "cell_type": "code",
   "execution_count": 12,
   "metadata": {
    "Collapsed": "false",
    "execution": {
     "iopub.execute_input": "2020-11-07T08:10:04.128615Z",
     "iopub.status.busy": "2020-11-07T08:10:04.128280Z",
     "iopub.status.idle": "2020-11-07T08:10:04.130213Z",
     "shell.execute_reply": "2020-11-07T08:10:04.129765Z",
     "shell.execute_reply.started": "2020-11-07T07:40:21.306630Z"
    },
    "papermill": {
     "duration": 0.01998,
     "end_time": "2020-11-07T08:10:04.130304",
     "exception": false,
     "start_time": "2020-11-07T08:10:04.110324",
     "status": "completed"
    },
    "tags": []
   },
   "outputs": [],
   "source": [
    "def _population(gdf, col, percentage=None, cutoff=None, top=True):\n",
    "    total_pop = gdf[col].sum()\n",
    "    gdf = gdf.sort_values(by=col, ascending=False)\n",
    "    gdf[\"pop_percentile\"] = (gdf[col].cumsum() / total_pop * 100).astype(np.float32)\n",
    "\n",
    "    if percentage:\n",
    "        if top:\n",
    "            gdf = gdf.query(\"pop_percentile <= @percentage\")\n",
    "        else:\n",
    "            gdf = gdf.query(\"pop_percentile > (100 - @percentage)\")\n",
    "\n",
    "    if cutoff:\n",
    "        if top:\n",
    "            gdf = gdf.query(f\"{col} >= @cutoff\")\n",
    "        else:\n",
    "            gdf = gdf.query(f\"{col} <  @cutoff\")\n",
    "            \n",
    "    return gdf[['idx', 'geometry', 'grid_population']]"
   ]
  },
  {
   "cell_type": "code",
   "execution_count": 13,
   "metadata": {
    "Collapsed": "false",
    "execution": {
     "iopub.execute_input": "2020-11-07T08:10:04.155846Z",
     "iopub.status.busy": "2020-11-07T08:10:04.155522Z",
     "iopub.status.idle": "2020-11-07T08:10:04.165270Z",
     "shell.execute_reply": "2020-11-07T08:10:04.164934Z",
     "shell.execute_reply.started": "2020-11-07T07:40:21.311450Z"
    },
    "papermill": {
     "duration": 0.023545,
     "end_time": "2020-11-07T08:10:04.165349",
     "exception": false,
     "start_time": "2020-11-07T08:10:04.141804",
     "status": "completed"
    },
    "tags": []
   },
   "outputs": [],
   "source": [
    "population = _population(grids_gdf, POP, percentage=50)"
   ]
  },
  {
   "cell_type": "code",
   "execution_count": 14,
   "metadata": {
    "execution": {
     "iopub.execute_input": "2020-11-07T08:10:04.191141Z",
     "iopub.status.busy": "2020-11-07T08:10:04.190809Z",
     "iopub.status.idle": "2020-11-07T08:10:04.193098Z",
     "shell.execute_reply": "2020-11-07T08:10:04.192768Z",
     "shell.execute_reply.started": "2020-11-07T07:40:21.339856Z"
    },
    "papermill": {
     "duration": 0.01616,
     "end_time": "2020-11-07T08:10:04.193170",
     "exception": false,
     "start_time": "2020-11-07T08:10:04.177010",
     "status": "completed"
    },
    "tags": []
   },
   "outputs": [
    {
     "data": {
      "text/plain": [
       "(339, 3)"
      ]
     },
     "execution_count": 14,
     "metadata": {},
     "output_type": "execute_result"
    }
   ],
   "source": [
    "population.shape"
   ]
  },
  {
   "cell_type": "code",
   "execution_count": 15,
   "metadata": {
    "Collapsed": "false",
    "execution": {
     "iopub.execute_input": "2020-11-07T08:10:04.219316Z",
     "iopub.status.busy": "2020-11-07T08:10:04.218985Z",
     "iopub.status.idle": "2020-11-07T08:10:04.392826Z",
     "shell.execute_reply": "2020-11-07T08:10:04.393460Z",
     "shell.execute_reply.started": "2020-11-07T07:40:21.345545Z"
    },
    "papermill": {
     "duration": 0.188818,
     "end_time": "2020-11-07T08:10:04.393667",
     "exception": false,
     "start_time": "2020-11-07T08:10:04.204849",
     "status": "completed"
    },
    "tags": []
   },
   "outputs": [
    {
     "data": {
      "image/png": "[encoded data removed]",
      "text/plain": [
       "<Figure size 720x720 with 1 Axes>"
      ]
     },
     "metadata": {
      "needs_background": "light"
     },
     "output_type": "display_data"
    }
   ],
   "source": [
    "show(region, _population(grids_gdf, POP, percentage=50), POP)"
   ]
  },
  {
   "cell_type": "code",
   "execution_count": 16,
   "metadata": {
    "execution": {
     "iopub.execute_input": "2020-11-07T08:10:04.435130Z",
     "iopub.status.busy": "2020-11-07T08:10:04.434797Z",
     "iopub.status.idle": "2020-11-07T08:10:04.436864Z",
     "shell.execute_reply": "2020-11-07T08:10:04.436523Z",
     "shell.execute_reply.started": "2020-11-07T07:40:21.591436Z"
    },
    "papermill": {
     "duration": 0.019459,
     "end_time": "2020-11-07T08:10:04.436956",
     "exception": false,
     "start_time": "2020-11-07T08:10:04.417497",
     "status": "completed"
    },
    "tags": []
   },
   "outputs": [],
   "source": [
    "def _building(gdf, metrics='area'):\n",
    "    return gdf[['idx', 'geometry', f'grid_building_{metrics}']]"
   ]
  },
  {
   "cell_type": "code",
   "execution_count": 17,
   "metadata": {
    "execution": {
     "iopub.execute_input": "2020-11-07T08:10:04.466040Z",
     "iopub.status.busy": "2020-11-07T08:10:04.465706Z",
     "iopub.status.idle": "2020-11-07T08:10:04.467439Z",
     "shell.execute_reply": "2020-11-07T08:10:04.467106Z",
     "shell.execute_reply.started": "2020-11-07T07:40:21.595930Z"
    },
    "papermill": {
     "duration": 0.01784,
     "end_time": "2020-11-07T08:10:04.467513",
     "exception": false,
     "start_time": "2020-11-07T08:10:04.449673",
     "status": "completed"
    },
    "tags": []
   },
   "outputs": [],
   "source": [
    "building = _building(grids_gdf, metrics='count')"
   ]
  },
  {
   "cell_type": "code",
   "execution_count": 18,
   "metadata": {
    "execution": {
     "iopub.execute_input": "2020-11-07T08:10:04.505921Z",
     "iopub.status.busy": "2020-11-07T08:10:04.503333Z",
     "iopub.status.idle": "2020-11-07T08:10:05.610773Z",
     "shell.execute_reply": "2020-11-07T08:10:05.610413Z",
     "shell.execute_reply.started": "2020-11-07T07:40:21.610737Z"
    },
    "papermill": {
     "duration": 1.130777,
     "end_time": "2020-11-07T08:10:05.610855",
     "exception": false,
     "start_time": "2020-11-07T08:10:04.480078",
     "status": "completed"
    },
    "tags": []
   },
   "outputs": [
    {
     "data": {
      "image/png": "[encoded data removed]",
      "text/plain": [
       "<Figure size 720x720 with 1 Axes>"
      ]
     },
     "metadata": {
      "needs_background": "light"
     },
     "output_type": "display_data"
    }
   ],
   "source": [
    "building.plot(figsize=(10, 10), cmap='RdYlGn_r', column='grid_building_count', scheme='percentiles', legend=True)\n",
    "plt.gca().set_axis_off()"
   ]
  },
  {
   "cell_type": "code",
   "execution_count": 19,
   "metadata": {
    "Collapsed": "false",
    "execution": {
     "iopub.execute_input": "2020-11-07T08:10:05.643244Z",
     "iopub.status.busy": "2020-11-07T08:10:05.642816Z",
     "iopub.status.idle": "2020-11-07T08:10:05.644280Z",
     "shell.execute_reply": "2020-11-07T08:10:05.644536Z",
     "shell.execute_reply.started": "2020-11-07T07:40:22.545080Z"
    },
    "papermill": {
     "duration": 0.020857,
     "end_time": "2020-11-07T08:10:05.644629",
     "exception": false,
     "start_time": "2020-11-07T08:10:05.623772",
     "status": "completed"
    },
    "tags": []
   },
   "outputs": [],
   "source": [
    "def _pairings(gdf):\n",
    "    step_stats = list()\n",
    "    for step in list(range(5, 100, 5)) + [99, 100]:\n",
    "        per_df = _population(gdf, POP, percentage=step)\n",
    "        step_stats.append(\n",
    "            {\n",
    "                \"per\": step,\n",
    "                \"pop\": per_df[POP].sum(),\n",
    "                \"area\": per_df.geometry.area.sum() / 1000000,\n",
    "                \"unit\": \"sq. km\",\n",
    "            }\n",
    "        )\n",
    "\n",
    "    return step_stats"
   ]
  },
  {
   "cell_type": "code",
   "execution_count": 20,
   "metadata": {
    "Collapsed": "false",
    "execution": {
     "iopub.execute_input": "2020-11-07T08:10:05.672706Z",
     "iopub.status.busy": "2020-11-07T08:10:05.672374Z",
     "iopub.status.idle": "2020-11-07T08:10:05.817276Z",
     "shell.execute_reply": "2020-11-07T08:10:05.816898Z",
     "shell.execute_reply.started": "2020-11-07T07:40:22.548918Z"
    },
    "papermill": {
     "duration": 0.159966,
     "end_time": "2020-11-07T08:10:05.817365",
     "exception": false,
     "start_time": "2020-11-07T08:10:05.657399",
     "status": "completed"
    },
    "tags": []
   },
   "outputs": [],
   "source": [
    "pairings = pd.DataFrame(_pairings(grids_gdf))"
   ]
  },
  {
   "cell_type": "code",
   "execution_count": 21,
   "metadata": {
    "Collapsed": "false",
    "execution": {
     "iopub.execute_input": "2020-11-07T08:10:05.848892Z",
     "iopub.status.busy": "2020-11-07T08:10:05.848559Z",
     "iopub.status.idle": "2020-11-07T08:10:05.887667Z",
     "shell.execute_reply": "2020-11-07T08:10:05.887389Z",
     "shell.execute_reply.started": "2020-11-07T07:40:22.707220Z"
    },
    "papermill": {
     "duration": 0.057217,
     "end_time": "2020-11-07T08:10:05.887750",
     "exception": false,
     "start_time": "2020-11-07T08:10:05.830533",
     "status": "completed"
    },
    "tags": []
   },
   "outputs": [
    {
     "data": {
      "text/html": [
       "<style  type=\"text/css\" >\n",
       "#T_a504fbfe_20d0_11eb_a630_a86daa0a00farow0_col2{\n",
       "            width:  10em;\n",
       "             height:  80%;\n",
       "        }#T_a504fbfe_20d0_11eb_a630_a86daa0a00farow1_col2{\n",
       "            width:  10em;\n",
       "             height:  80%;\n",
       "            background:  linear-gradient(90deg,#d65f5f 0.2%, transparent 0.2%);\n",
       "        }#T_a504fbfe_20d0_11eb_a630_a86daa0a00farow2_col2{\n",
       "            width:  10em;\n",
       "             height:  80%;\n",
       "            background:  linear-gradient(90deg,#d65f5f 0.5%, transparent 0.5%);\n",
       "        }#T_a504fbfe_20d0_11eb_a630_a86daa0a00farow3_col2{\n",
       "            width:  10em;\n",
       "             height:  80%;\n",
       "            background:  linear-gradient(90deg,#d65f5f 0.9%, transparent 0.9%);\n",
       "        }#T_a504fbfe_20d0_11eb_a630_a86daa0a00farow4_col2{\n",
       "            width:  10em;\n",
       "             height:  80%;\n",
       "            background:  linear-gradient(90deg,#d65f5f 1.4%, transparent 1.4%);\n",
       "        }#T_a504fbfe_20d0_11eb_a630_a86daa0a00farow5_col2{\n",
       "            width:  10em;\n",
       "             height:  80%;\n",
       "            background:  linear-gradient(90deg,#d65f5f 2.0%, transparent 2.0%);\n",
       "        }#T_a504fbfe_20d0_11eb_a630_a86daa0a00farow6_col2{\n",
       "            width:  10em;\n",
       "             height:  80%;\n",
       "            background:  linear-gradient(90deg,#d65f5f 2.6%, transparent 2.6%);\n",
       "        }#T_a504fbfe_20d0_11eb_a630_a86daa0a00farow7_col2{\n",
       "            width:  10em;\n",
       "             height:  80%;\n",
       "            background:  linear-gradient(90deg,#d65f5f 3.4%, transparent 3.4%);\n",
       "        }#T_a504fbfe_20d0_11eb_a630_a86daa0a00farow8_col2{\n",
       "            width:  10em;\n",
       "             height:  80%;\n",
       "            background:  linear-gradient(90deg,#d65f5f 4.2%, transparent 4.2%);\n",
       "        }#T_a504fbfe_20d0_11eb_a630_a86daa0a00farow9_col2{\n",
       "            width:  10em;\n",
       "             height:  80%;\n",
       "            background:  linear-gradient(90deg,#d65f5f 5.2%, transparent 5.2%);\n",
       "        }#T_a504fbfe_20d0_11eb_a630_a86daa0a00farow10_col2{\n",
       "            width:  10em;\n",
       "             height:  80%;\n",
       "            background:  linear-gradient(90deg,#d65f5f 6.2%, transparent 6.2%);\n",
       "        }#T_a504fbfe_20d0_11eb_a630_a86daa0a00farow11_col2{\n",
       "            width:  10em;\n",
       "             height:  80%;\n",
       "            background:  linear-gradient(90deg,#d65f5f 7.4%, transparent 7.4%);\n",
       "        }#T_a504fbfe_20d0_11eb_a630_a86daa0a00farow12_col2{\n",
       "            width:  10em;\n",
       "             height:  80%;\n",
       "            background:  linear-gradient(90deg,#d65f5f 8.8%, transparent 8.8%);\n",
       "        }#T_a504fbfe_20d0_11eb_a630_a86daa0a00farow13_col2{\n",
       "            width:  10em;\n",
       "             height:  80%;\n",
       "            background:  linear-gradient(90deg,#d65f5f 10.3%, transparent 10.3%);\n",
       "        }#T_a504fbfe_20d0_11eb_a630_a86daa0a00farow14_col2{\n",
       "            width:  10em;\n",
       "             height:  80%;\n",
       "            background:  linear-gradient(90deg,#d65f5f 12.0%, transparent 12.0%);\n",
       "        }#T_a504fbfe_20d0_11eb_a630_a86daa0a00farow15_col2{\n",
       "            width:  10em;\n",
       "             height:  80%;\n",
       "            background:  linear-gradient(90deg,#d65f5f 14.0%, transparent 14.0%);\n",
       "        }#T_a504fbfe_20d0_11eb_a630_a86daa0a00farow16_col2{\n",
       "            width:  10em;\n",
       "             height:  80%;\n",
       "            background:  linear-gradient(90deg,#d65f5f 16.3%, transparent 16.3%);\n",
       "        }#T_a504fbfe_20d0_11eb_a630_a86daa0a00farow17_col2{\n",
       "            width:  10em;\n",
       "             height:  80%;\n",
       "            background:  linear-gradient(90deg,#d65f5f 19.0%, transparent 19.0%);\n",
       "        }#T_a504fbfe_20d0_11eb_a630_a86daa0a00farow18_col2{\n",
       "            width:  10em;\n",
       "             height:  80%;\n",
       "            background:  linear-gradient(90deg,#d65f5f 22.6%, transparent 22.6%);\n",
       "        }#T_a504fbfe_20d0_11eb_a630_a86daa0a00farow19_col2{\n",
       "            width:  10em;\n",
       "             height:  80%;\n",
       "            background:  linear-gradient(90deg,#d65f5f 26.9%, transparent 26.9%);\n",
       "        }#T_a504fbfe_20d0_11eb_a630_a86daa0a00farow20_col2{\n",
       "            width:  10em;\n",
       "             height:  80%;\n",
       "            background:  linear-gradient(90deg,#d65f5f 100.0%, transparent 100.0%);\n",
       "        }</style><table id=\"T_a504fbfe_20d0_11eb_a630_a86daa0a00fa\" ><thead>    <tr>        <th class=\"blank level0\" ></th>        <th class=\"col_heading level0 col0\" >per</th>        <th class=\"col_heading level0 col1\" >pop</th>        <th class=\"col_heading level0 col2\" >area</th>        <th class=\"col_heading level0 col3\" >unit</th>    </tr></thead><tbody>\n",
       "                <tr>\n",
       "                        <th id=\"T_a504fbfe_20d0_11eb_a630_a86daa0a00falevel0_row0\" class=\"row_heading level0 row0\" >0</th>\n",
       "                        <td id=\"T_a504fbfe_20d0_11eb_a630_a86daa0a00farow0_col0\" class=\"data row0 col0\" >5</td>\n",
       "                        <td id=\"T_a504fbfe_20d0_11eb_a630_a86daa0a00farow0_col1\" class=\"data row0 col1\" >4724.243161</td>\n",
       "                        <td id=\"T_a504fbfe_20d0_11eb_a630_a86daa0a00farow0_col2\" class=\"data row0 col2\" >0.051251</td>\n",
       "                        <td id=\"T_a504fbfe_20d0_11eb_a630_a86daa0a00farow0_col3\" class=\"data row0 col3\" >sq. km</td>\n",
       "            </tr>\n",
       "            <tr>\n",
       "                        <th id=\"T_a504fbfe_20d0_11eb_a630_a86daa0a00falevel0_row1\" class=\"row_heading level0 row1\" >1</th>\n",
       "                        <td id=\"T_a504fbfe_20d0_11eb_a630_a86daa0a00farow1_col0\" class=\"data row1 col0\" >10</td>\n",
       "                        <td id=\"T_a504fbfe_20d0_11eb_a630_a86daa0a00farow1_col1\" class=\"data row1 col1\" >9934.332031</td>\n",
       "                        <td id=\"T_a504fbfe_20d0_11eb_a630_a86daa0a00farow1_col2\" class=\"data row1 col2\" >0.179377</td>\n",
       "                        <td id=\"T_a504fbfe_20d0_11eb_a630_a86daa0a00farow1_col3\" class=\"data row1 col3\" >sq. km</td>\n",
       "            </tr>\n",
       "            <tr>\n",
       "                        <th id=\"T_a504fbfe_20d0_11eb_a630_a86daa0a00falevel0_row2\" class=\"row_heading level0 row2\" >2</th>\n",
       "                        <td id=\"T_a504fbfe_20d0_11eb_a630_a86daa0a00farow2_col0\" class=\"data row2 col0\" >15</td>\n",
       "                        <td id=\"T_a504fbfe_20d0_11eb_a630_a86daa0a00farow2_col1\" class=\"data row2 col1\" >14791.470019</td>\n",
       "                        <td id=\"T_a504fbfe_20d0_11eb_a630_a86daa0a00farow2_col2\" class=\"data row2 col2\" >0.350212</td>\n",
       "                        <td id=\"T_a504fbfe_20d0_11eb_a630_a86daa0a00farow2_col3\" class=\"data row2 col3\" >sq. km</td>\n",
       "            </tr>\n",
       "            <tr>\n",
       "                        <th id=\"T_a504fbfe_20d0_11eb_a630_a86daa0a00falevel0_row3\" class=\"row_heading level0 row3\" >3</th>\n",
       "                        <td id=\"T_a504fbfe_20d0_11eb_a630_a86daa0a00farow3_col0\" class=\"data row3 col0\" >20</td>\n",
       "                        <td id=\"T_a504fbfe_20d0_11eb_a630_a86daa0a00farow3_col1\" class=\"data row3 col1\" >19906.810363</td>\n",
       "                        <td id=\"T_a504fbfe_20d0_11eb_a630_a86daa0a00farow3_col2\" class=\"data row3 col2\" >0.572299</td>\n",
       "                        <td id=\"T_a504fbfe_20d0_11eb_a630_a86daa0a00farow3_col3\" class=\"data row3 col3\" >sq. km</td>\n",
       "            </tr>\n",
       "            <tr>\n",
       "                        <th id=\"T_a504fbfe_20d0_11eb_a630_a86daa0a00falevel0_row4\" class=\"row_heading level0 row4\" >4</th>\n",
       "                        <td id=\"T_a504fbfe_20d0_11eb_a630_a86daa0a00farow4_col0\" class=\"data row4 col0\" >25</td>\n",
       "                        <td id=\"T_a504fbfe_20d0_11eb_a630_a86daa0a00farow4_col1\" class=\"data row4 col1\" >24907.179174</td>\n",
       "                        <td id=\"T_a504fbfe_20d0_11eb_a630_a86daa0a00farow4_col2\" class=\"data row4 col2\" >0.837089</td>\n",
       "                        <td id=\"T_a504fbfe_20d0_11eb_a630_a86daa0a00farow4_col3\" class=\"data row4 col3\" >sq. km</td>\n",
       "            </tr>\n",
       "            <tr>\n",
       "                        <th id=\"T_a504fbfe_20d0_11eb_a630_a86daa0a00falevel0_row5\" class=\"row_heading level0 row5\" >5</th>\n",
       "                        <td id=\"T_a504fbfe_20d0_11eb_a630_a86daa0a00farow5_col0\" class=\"data row5 col0\" >30</td>\n",
       "                        <td id=\"T_a504fbfe_20d0_11eb_a630_a86daa0a00farow5_col1\" class=\"data row5 col1\" >29875.294203</td>\n",
       "                        <td id=\"T_a504fbfe_20d0_11eb_a630_a86daa0a00farow5_col2\" class=\"data row5 col2\" >1.144584</td>\n",
       "                        <td id=\"T_a504fbfe_20d0_11eb_a630_a86daa0a00farow5_col3\" class=\"data row5 col3\" >sq. km</td>\n",
       "            </tr>\n",
       "            <tr>\n",
       "                        <th id=\"T_a504fbfe_20d0_11eb_a630_a86daa0a00falevel0_row6\" class=\"row_heading level0 row6\" >6</th>\n",
       "                        <td id=\"T_a504fbfe_20d0_11eb_a630_a86daa0a00farow6_col0\" class=\"data row6 col0\" >35</td>\n",
       "                        <td id=\"T_a504fbfe_20d0_11eb_a630_a86daa0a00farow6_col1\" class=\"data row6 col1\" >34867.485527</td>\n",
       "                        <td id=\"T_a504fbfe_20d0_11eb_a630_a86daa0a00farow6_col2\" class=\"data row6 col2\" >1.503333</td>\n",
       "                        <td id=\"T_a504fbfe_20d0_11eb_a630_a86daa0a00farow6_col3\" class=\"data row6 col3\" >sq. km</td>\n",
       "            </tr>\n",
       "            <tr>\n",
       "                        <th id=\"T_a504fbfe_20d0_11eb_a630_a86daa0a00falevel0_row7\" class=\"row_heading level0 row7\" >7</th>\n",
       "                        <td id=\"T_a504fbfe_20d0_11eb_a630_a86daa0a00farow7_col0\" class=\"data row7 col0\" >40</td>\n",
       "                        <td id=\"T_a504fbfe_20d0_11eb_a630_a86daa0a00farow7_col1\" class=\"data row7 col1\" >39960.332967</td>\n",
       "                        <td id=\"T_a504fbfe_20d0_11eb_a630_a86daa0a00farow7_col2\" class=\"data row7 col2\" >1.921875</td>\n",
       "                        <td id=\"T_a504fbfe_20d0_11eb_a630_a86daa0a00farow7_col3\" class=\"data row7 col3\" >sq. km</td>\n",
       "            </tr>\n",
       "            <tr>\n",
       "                        <th id=\"T_a504fbfe_20d0_11eb_a630_a86daa0a00falevel0_row8\" class=\"row_heading level0 row8\" >8</th>\n",
       "                        <td id=\"T_a504fbfe_20d0_11eb_a630_a86daa0a00farow8_col0\" class=\"data row8 col0\" >45</td>\n",
       "                        <td id=\"T_a504fbfe_20d0_11eb_a630_a86daa0a00farow8_col1\" class=\"data row8 col1\" >44954.826131</td>\n",
       "                        <td id=\"T_a504fbfe_20d0_11eb_a630_a86daa0a00farow8_col2\" class=\"data row8 col2\" >2.383127</td>\n",
       "                        <td id=\"T_a504fbfe_20d0_11eb_a630_a86daa0a00farow8_col3\" class=\"data row8 col3\" >sq. km</td>\n",
       "            </tr>\n",
       "            <tr>\n",
       "                        <th id=\"T_a504fbfe_20d0_11eb_a630_a86daa0a00falevel0_row9\" class=\"row_heading level0 row9\" >9</th>\n",
       "                        <td id=\"T_a504fbfe_20d0_11eb_a630_a86daa0a00farow9_col0\" class=\"data row9 col0\" >50</td>\n",
       "                        <td id=\"T_a504fbfe_20d0_11eb_a630_a86daa0a00farow9_col1\" class=\"data row9 col1\" >49949.208120</td>\n",
       "                        <td id=\"T_a504fbfe_20d0_11eb_a630_a86daa0a00farow9_col2\" class=\"data row9 col2\" >2.895621</td>\n",
       "                        <td id=\"T_a504fbfe_20d0_11eb_a630_a86daa0a00farow9_col3\" class=\"data row9 col3\" >sq. km</td>\n",
       "            </tr>\n",
       "            <tr>\n",
       "                        <th id=\"T_a504fbfe_20d0_11eb_a630_a86daa0a00falevel0_row10\" class=\"row_heading level0 row10\" >10</th>\n",
       "                        <td id=\"T_a504fbfe_20d0_11eb_a630_a86daa0a00farow10_col0\" class=\"data row10 col0\" >55</td>\n",
       "                        <td id=\"T_a504fbfe_20d0_11eb_a630_a86daa0a00farow10_col1\" class=\"data row10 col1\" >54920.795423</td>\n",
       "                        <td id=\"T_a504fbfe_20d0_11eb_a630_a86daa0a00farow10_col2\" class=\"data row10 col2\" >3.476456</td>\n",
       "                        <td id=\"T_a504fbfe_20d0_11eb_a630_a86daa0a00farow10_col3\" class=\"data row10 col3\" >sq. km</td>\n",
       "            </tr>\n",
       "            <tr>\n",
       "                        <th id=\"T_a504fbfe_20d0_11eb_a630_a86daa0a00falevel0_row11\" class=\"row_heading level0 row11\" >11</th>\n",
       "                        <td id=\"T_a504fbfe_20d0_11eb_a630_a86daa0a00farow11_col0\" class=\"data row11 col0\" >60</td>\n",
       "                        <td id=\"T_a504fbfe_20d0_11eb_a630_a86daa0a00farow11_col1\" class=\"data row11 col1\" >59958.043044</td>\n",
       "                        <td id=\"T_a504fbfe_20d0_11eb_a630_a86daa0a00farow11_col2\" class=\"data row11 col2\" >4.142716</td>\n",
       "                        <td id=\"T_a504fbfe_20d0_11eb_a630_a86daa0a00farow11_col3\" class=\"data row11 col3\" >sq. km</td>\n",
       "            </tr>\n",
       "            <tr>\n",
       "                        <th id=\"T_a504fbfe_20d0_11eb_a630_a86daa0a00falevel0_row12\" class=\"row_heading level0 row12\" >12</th>\n",
       "                        <td id=\"T_a504fbfe_20d0_11eb_a630_a86daa0a00farow12_col0\" class=\"data row12 col0\" >65</td>\n",
       "                        <td id=\"T_a504fbfe_20d0_11eb_a630_a86daa0a00farow12_col1\" class=\"data row12 col1\" >64934.503046</td>\n",
       "                        <td id=\"T_a504fbfe_20d0_11eb_a630_a86daa0a00farow12_col2\" class=\"data row12 col2\" >4.885850</td>\n",
       "                        <td id=\"T_a504fbfe_20d0_11eb_a630_a86daa0a00farow12_col3\" class=\"data row12 col3\" >sq. km</td>\n",
       "            </tr>\n",
       "            <tr>\n",
       "                        <th id=\"T_a504fbfe_20d0_11eb_a630_a86daa0a00falevel0_row13\" class=\"row_heading level0 row13\" >13</th>\n",
       "                        <td id=\"T_a504fbfe_20d0_11eb_a630_a86daa0a00farow13_col0\" class=\"data row13 col0\" >70</td>\n",
       "                        <td id=\"T_a504fbfe_20d0_11eb_a630_a86daa0a00farow13_col1\" class=\"data row13 col1\" >69941.981879</td>\n",
       "                        <td id=\"T_a504fbfe_20d0_11eb_a630_a86daa0a00farow13_col2\" class=\"data row13 col2\" >5.722958</td>\n",
       "                        <td id=\"T_a504fbfe_20d0_11eb_a630_a86daa0a00farow13_col3\" class=\"data row13 col3\" >sq. km</td>\n",
       "            </tr>\n",
       "            <tr>\n",
       "                        <th id=\"T_a504fbfe_20d0_11eb_a630_a86daa0a00falevel0_row14\" class=\"row_heading level0 row14\" >14</th>\n",
       "                        <td id=\"T_a504fbfe_20d0_11eb_a630_a86daa0a00farow14_col0\" class=\"data row14 col0\" >75</td>\n",
       "                        <td id=\"T_a504fbfe_20d0_11eb_a630_a86daa0a00farow14_col1\" class=\"data row14 col1\" >74946.176519</td>\n",
       "                        <td id=\"T_a504fbfe_20d0_11eb_a630_a86daa0a00farow14_col2\" class=\"data row14 col2\" >6.671100</td>\n",
       "                        <td id=\"T_a504fbfe_20d0_11eb_a630_a86daa0a00farow14_col3\" class=\"data row14 col3\" >sq. km</td>\n",
       "            </tr>\n",
       "            <tr>\n",
       "                        <th id=\"T_a504fbfe_20d0_11eb_a630_a86daa0a00falevel0_row15\" class=\"row_heading level0 row15\" >15</th>\n",
       "                        <td id=\"T_a504fbfe_20d0_11eb_a630_a86daa0a00farow15_col0\" class=\"data row15 col0\" >80</td>\n",
       "                        <td id=\"T_a504fbfe_20d0_11eb_a630_a86daa0a00farow15_col1\" class=\"data row15 col1\" >79921.581193</td>\n",
       "                        <td id=\"T_a504fbfe_20d0_11eb_a630_a86daa0a00farow15_col2\" class=\"data row15 col2\" >7.747374</td>\n",
       "                        <td id=\"T_a504fbfe_20d0_11eb_a630_a86daa0a00farow15_col3\" class=\"data row15 col3\" >sq. km</td>\n",
       "            </tr>\n",
       "            <tr>\n",
       "                        <th id=\"T_a504fbfe_20d0_11eb_a630_a86daa0a00falevel0_row16\" class=\"row_heading level0 row16\" >16</th>\n",
       "                        <td id=\"T_a504fbfe_20d0_11eb_a630_a86daa0a00farow16_col0\" class=\"data row16 col0\" >85</td>\n",
       "                        <td id=\"T_a504fbfe_20d0_11eb_a630_a86daa0a00farow16_col1\" class=\"data row16 col1\" >84918.319414</td>\n",
       "                        <td id=\"T_a504fbfe_20d0_11eb_a630_a86daa0a00farow16_col2\" class=\"data row16 col2\" >9.011590</td>\n",
       "                        <td id=\"T_a504fbfe_20d0_11eb_a630_a86daa0a00farow16_col3\" class=\"data row16 col3\" >sq. km</td>\n",
       "            </tr>\n",
       "            <tr>\n",
       "                        <th id=\"T_a504fbfe_20d0_11eb_a630_a86daa0a00falevel0_row17\" class=\"row_heading level0 row17\" >17</th>\n",
       "                        <td id=\"T_a504fbfe_20d0_11eb_a630_a86daa0a00farow17_col0\" class=\"data row17 col0\" >90</td>\n",
       "                        <td id=\"T_a504fbfe_20d0_11eb_a630_a86daa0a00farow17_col1\" class=\"data row17 col1\" >89928.362948</td>\n",
       "                        <td id=\"T_a504fbfe_20d0_11eb_a630_a86daa0a00farow17_col2\" class=\"data row17 col2\" >10.532040</td>\n",
       "                        <td id=\"T_a504fbfe_20d0_11eb_a630_a86daa0a00farow17_col3\" class=\"data row17 col3\" >sq. km</td>\n",
       "            </tr>\n",
       "            <tr>\n",
       "                        <th id=\"T_a504fbfe_20d0_11eb_a630_a86daa0a00falevel0_row18\" class=\"row_heading level0 row18\" >18</th>\n",
       "                        <td id=\"T_a504fbfe_20d0_11eb_a630_a86daa0a00farow18_col0\" class=\"data row18 col0\" >95</td>\n",
       "                        <td id=\"T_a504fbfe_20d0_11eb_a630_a86daa0a00farow18_col1\" class=\"data row18 col1\" >94918.689176</td>\n",
       "                        <td id=\"T_a504fbfe_20d0_11eb_a630_a86daa0a00farow18_col2\" class=\"data row18 col2\" >12.505221</td>\n",
       "                        <td id=\"T_a504fbfe_20d0_11eb_a630_a86daa0a00farow18_col3\" class=\"data row18 col3\" >sq. km</td>\n",
       "            </tr>\n",
       "            <tr>\n",
       "                        <th id=\"T_a504fbfe_20d0_11eb_a630_a86daa0a00falevel0_row19\" class=\"row_heading level0 row19\" >19</th>\n",
       "                        <td id=\"T_a504fbfe_20d0_11eb_a630_a86daa0a00farow19_col0\" class=\"data row19 col0\" >99</td>\n",
       "                        <td id=\"T_a504fbfe_20d0_11eb_a630_a86daa0a00farow19_col1\" class=\"data row19 col1\" >98926.677700</td>\n",
       "                        <td id=\"T_a504fbfe_20d0_11eb_a630_a86daa0a00farow19_col2\" class=\"data row19 col2\" >14.888414</td>\n",
       "                        <td id=\"T_a504fbfe_20d0_11eb_a630_a86daa0a00farow19_col3\" class=\"data row19 col3\" >sq. km</td>\n",
       "            </tr>\n",
       "            <tr>\n",
       "                        <th id=\"T_a504fbfe_20d0_11eb_a630_a86daa0a00falevel0_row20\" class=\"row_heading level0 row20\" >20</th>\n",
       "                        <td id=\"T_a504fbfe_20d0_11eb_a630_a86daa0a00farow20_col0\" class=\"data row20 col0\" >100</td>\n",
       "                        <td id=\"T_a504fbfe_20d0_11eb_a630_a86daa0a00farow20_col1\" class=\"data row20 col1\" >99932.545832</td>\n",
       "                        <td id=\"T_a504fbfe_20d0_11eb_a630_a86daa0a00farow20_col2\" class=\"data row20 col2\" >55.129366</td>\n",
       "                        <td id=\"T_a504fbfe_20d0_11eb_a630_a86daa0a00farow20_col3\" class=\"data row20 col3\" >sq. km</td>\n",
       "            </tr>\n",
       "    </tbody></table>"
      ],
      "text/plain": [
       "<pandas.io.formats.style.Styler at 0x7f1d806a14d0>"
      ]
     },
     "execution_count": 21,
     "metadata": {},
     "output_type": "execute_result"
    }
   ],
   "source": [
    "(pairings\n",
    "    .style\n",
    "    .bar(subset='area'))"
   ]
  },
  {
   "cell_type": "code",
   "execution_count": 22,
   "metadata": {
    "Collapsed": "false",
    "execution": {
     "iopub.execute_input": "2020-11-07T08:10:05.918767Z",
     "iopub.status.busy": "2020-11-07T08:10:05.918433Z",
     "iopub.status.idle": "2020-11-07T08:10:06.011386Z",
     "shell.execute_reply": "2020-11-07T08:10:06.011037Z",
     "shell.execute_reply.started": "2020-11-07T07:40:22.749301Z"
    },
    "papermill": {
     "duration": 0.110259,
     "end_time": "2020-11-07T08:10:06.011468",
     "exception": false,
     "start_time": "2020-11-07T08:10:05.901209",
     "status": "completed"
    },
    "tags": []
   },
   "outputs": [
    {
     "data": {
      "text/plain": [
       "<AxesSubplot:xlabel='per', ylabel='area'>"
      ]
     },
     "execution_count": 22,
     "metadata": {},
     "output_type": "execute_result"
    },
    {
     "data": {
      "image/png": "[encoded data removed]",
      "text/plain": [
       "<Figure size 432x288 with 1 Axes>"
      ]
     },
     "metadata": {
      "needs_background": "light"
     },
     "output_type": "display_data"
    }
   ],
   "source": [
    "sns.lineplot(x=pairings.per, y=pairings.area)"
   ]
  },
  {
   "cell_type": "code",
   "execution_count": 23,
   "metadata": {
    "Collapsed": "false",
    "execution": {
     "iopub.execute_input": "2020-11-07T08:10:06.050608Z",
     "iopub.status.busy": "2020-11-07T08:10:06.050268Z",
     "iopub.status.idle": "2020-11-07T08:10:06.052011Z",
     "shell.execute_reply": "2020-11-07T08:10:06.051686Z",
     "shell.execute_reply.started": "2020-11-07T07:40:22.848735Z"
    },
    "papermill": {
     "duration": 0.026794,
     "end_time": "2020-11-07T08:10:06.052086",
     "exception": false,
     "start_time": "2020-11-07T08:10:06.025292",
     "status": "completed"
    },
    "tags": []
   },
   "outputs": [],
   "source": [
    "def _stats(gdf):\n",
    "    m2km = 1000000\n",
    "    return {\n",
    "        \"area\": f\"{gdf.geometry.area.sum() / m2km:.2f} sq. km\",\n",
    "        \"pop\": f\"{gdf[POP].sum():,.0f}\",\n",
    "        \"release_area\": f'{gdf.query(f\"{POP} > 0\").geometry.area.sum() / m2km:.2f} sq. km',\n",
    "        \"exclusion_area\": f'{gdf.query(f\"{POP} <= 0\").geometry.area.sum() / m2km:.2f} sq. km',\n",
    "        \"analysis_date\": dt.now().strftime(\"%Y-%m-%d %I-%M-%S %p\"),\n",
    "        \"pop_stats\": {\n",
    "            \"min\": f\"{gdf[POP].min():,.2f}\",\n",
    "            \"max\": f\"{gdf[POP].max():,.2f}\",\n",
    "            \"mean\": f\"{gdf[POP].mean():,.2f}\",\n",
    "            \"median\": f\"{gdf[POP].median():,.2f}\",\n",
    "        },\n",
    "        \"building_stats\": {\n",
    "            \"min_area\": f\"{gdf.grid_building_area.min()  } sq. m\",\n",
    "            \"max_area\": f\"{gdf.grid_building_area.max()  } sq. m\",\n",
    "            \"mean_area\": f\"{gdf.grid_building_area.mean() } sq. m\",\n",
    "            \"min_count\": f\"{gdf.grid_building_count.min() }\",\n",
    "            \"max_count\": f\"{gdf.grid_building_count.max() }\",\n",
    "            \"mean_count\": f\"{int(gdf.grid_building_count.mean())}\",\n",
    "        },\n",
    "    }"
   ]
  },
  {
   "cell_type": "code",
   "execution_count": 24,
   "metadata": {
    "Collapsed": "false",
    "execution": {
     "iopub.execute_input": "2020-11-07T08:10:06.081128Z",
     "iopub.status.busy": "2020-11-07T08:10:06.080808Z",
     "iopub.status.idle": "2020-11-07T08:10:06.109843Z",
     "shell.execute_reply": "2020-11-07T08:10:06.110156Z",
     "shell.execute_reply.started": "2020-11-07T07:40:22.853784Z"
    },
    "papermill": {
     "duration": 0.044808,
     "end_time": "2020-11-07T08:10:06.110263",
     "exception": false,
     "start_time": "2020-11-07T08:10:06.065455",
     "status": "completed"
    },
    "tags": []
   },
   "outputs": [],
   "source": [
    "stats = _stats(grids_gdf)"
   ]
  },
  {
   "cell_type": "code",
   "execution_count": 25,
   "metadata": {
    "Collapsed": "false",
    "execution": {
     "iopub.execute_input": "2020-11-07T08:10:06.145919Z",
     "iopub.status.busy": "2020-11-07T08:10:06.145506Z",
     "iopub.status.idle": "2020-11-07T08:10:06.147748Z",
     "shell.execute_reply": "2020-11-07T08:10:06.148005Z",
     "shell.execute_reply.started": "2020-11-07T07:40:22.900301Z"
    },
    "papermill": {
     "duration": 0.022496,
     "end_time": "2020-11-07T08:10:06.148097",
     "exception": false,
     "start_time": "2020-11-07T08:10:06.125601",
     "status": "completed"
    },
    "tags": []
   },
   "outputs": [
    {
     "data": {
      "text/plain": [
       "{'area': '55.13 sq. km',\n",
       " 'pop': '99,933',\n",
       " 'release_area': '16.20 sq. km',\n",
       " 'exclusion_area': '38.93 sq. km',\n",
       " 'analysis_date': '2020-11-07 01-40-06 PM',\n",
       " 'pop_stats': {'min': '0.00',\n",
       "  'max': '1,620.66',\n",
       "  'mean': '15.30',\n",
       "  'median': '0.00'},\n",
       " 'building_stats': {'min_area': '0.0 sq. m',\n",
       "  'max_area': '6343.922091321499 sq. m',\n",
       "  'mean_area': '211.66565380280298 sq. m',\n",
       "  'min_count': '0',\n",
       "  'max_count': '33',\n",
       "  'mean_count': '1'}}"
      ]
     },
     "execution_count": 25,
     "metadata": {},
     "output_type": "execute_result"
    }
   ],
   "source": [
    "stats"
   ]
  },
  {
   "cell_type": "code",
   "execution_count": null,
   "metadata": {
    "papermill": {
     "duration": 0.013771,
     "end_time": "2020-11-07T08:10:06.176335",
     "exception": false,
     "start_time": "2020-11-07T08:10:06.162564",
     "status": "completed"
    },
    "tags": []
   },
   "outputs": [],
   "source": []
  }
 ],
 "metadata": {
  "kernelspec": {
   "display_name": "Python 3",
   "language": "python",
   "name": "python3"
  },
  "language_info": {
   "codemirror_mode": {
    "name": "ipython",
    "version": 3
   },
   "file_extension": ".py",
   "mimetype": "text/x-python",
   "name": "python",
   "nbconvert_exporter": "python",
   "pygments_lexer": "ipython3",
   "version": "3.7.7"
  },
  "papermill": {
   "duration": 8.025029,
   "end_time": "2020-11-07T08:10:07.522197",
   "environment_variables": {},
   "exception": null,
   "input_path": "2020-11-06-query-engine.ipynb",
   "output_path": "nb-output/query-executed-entebbe_@_2020-11-07_01-39-59_PM.ipynb",
   "parameters": {
    "PIPELINE": "query",
    "POP": "grid_population",
    "REGION": "entebbe",
    "UTM": 32636
   },
   "start_time": "2020-11-07T08:09:59.497168",
   "version": "2.1.3"
  }
 },
 "nbformat": 4,
 "nbformat_minor": 4
}
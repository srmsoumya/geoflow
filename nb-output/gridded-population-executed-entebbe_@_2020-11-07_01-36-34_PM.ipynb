{
 "cells": [
  {
   "cell_type": "markdown",
   "metadata": {
    "papermill": {
     "duration": 0.035124,
     "end_time": "2020-11-07T08:06:35.001815",
     "exception": false,
     "start_time": "2020-11-07T08:06:34.966691",
     "status": "completed"
    },
    "tags": []
   },
   "source": [
    "# \"Part 1: GeoFLOW - How to create effective GeoSpatial workflow using Python & Jupyter Notebook\"\n",
    "> \"GeoSpatial Data Analysis has a visual component to it. As a Data Scientist, you would prefer to look at the intermediary steps in the processing pipeline. This has a two fold impact, first, it provides a better intutition about your data & second, makes bug trackking easier. Let us try to understand this better, by solving a mystery, Where do people tend to live?\"\n",
    "\n",
    "- toc: false\n",
    "- branch: master\n",
    "- badges: true\n",
    "- comments: true\n",
    "- categories: [GIS]\n",
    "- image: images/geoflow-banner-1.png"
   ]
  },
  {
   "cell_type": "markdown",
   "metadata": {
    "papermill": {
     "duration": 0.012634,
     "end_time": "2020-11-07T08:06:35.031880",
     "exception": false,
     "start_time": "2020-11-07T08:06:35.019246",
     "status": "completed"
    },
    "tags": []
   },
   "source": [
    "<a href=\"google.com\" role=\"button\" target=\"_blank\"><img class=\"notebook-badge-image\" src=\"{{ \"assets/badges/github.svg\" | relative_url }}\" alt=\"View On GitHub\"></a>"
   ]
  },
  {
   "cell_type": "markdown",
   "metadata": {
    "papermill": {
     "duration": 0.011625,
     "end_time": "2020-11-07T08:06:35.055063",
     "exception": false,
     "start_time": "2020-11-07T08:06:35.043438",
     "status": "completed"
    },
    "tags": []
   },
   "source": [
    "# Where do people live?\n",
    "\n",
    "Population data is available at a low spatial & temporal resolution. For most of the countries around the world, it is done once every 10 years & available at a ward level at best.\n",
    "\n",
    "Goverment, NGOs & other public bodies design a lot of policy & measures based on this outdated data. In the event of an endemic or natural disaster, it would help a lot if you know exactly where people live & track their movements.\n",
    "\n",
    "To address this issue, we will try to estimate the human population at 100m x 100m GRID level. Using Building footprints as proxy for human settlement, we will see how to distribute a global datasource like Gridded Population of the World (GPW) can be used to estimate the human population at such granular resolution."
   ]
  },
  {
   "cell_type": "markdown",
   "metadata": {
    "papermill": {
     "duration": 0.012178,
     "end_time": "2020-11-07T08:06:35.079310",
     "exception": false,
     "start_time": "2020-11-07T08:06:35.067132",
     "status": "completed"
    },
    "tags": []
   },
   "source": [
    "# Details of the city under consideration\n",
    "\n",
    "We are looking at the city of [Fortportal, which is regarded as the tourism city in Uganda](https://en.wikipedia.org/wiki/Fort_Portal)"
   ]
  },
  {
   "cell_type": "code",
   "execution_count": 1,
   "metadata": {
    "Collapsed": "false",
    "ExecuteTime": {
     "end_time": "2020-08-21T15:34:57.416967Z",
     "start_time": "2020-08-21T15:34:57.410872Z"
    },
    "execution": {
     "iopub.execute_input": "2020-11-07T08:06:35.107033Z",
     "iopub.status.busy": "2020-11-07T08:06:35.106694Z",
     "iopub.status.idle": "2020-11-07T08:06:35.108155Z",
     "shell.execute_reply": "2020-11-07T08:06:35.108439Z",
     "shell.execute_reply.started": "2020-11-07T07:34:08.159607Z"
    },
    "papermill": {
     "duration": 0.016877,
     "end_time": "2020-11-07T08:06:35.108579",
     "exception": false,
     "start_time": "2020-11-07T08:06:35.091702",
     "status": "completed"
    },
    "tags": [
     "parameters"
    ]
   },
   "outputs": [],
   "source": [
    "REGION = 'fortportal'\n",
    "UTM = 32636\n",
    "PIPELINE = 'output'"
   ]
  },
  {
   "cell_type": "code",
   "execution_count": 2,
   "metadata": {
    "execution": {
     "iopub.execute_input": "2020-11-07T08:06:35.141834Z",
     "iopub.status.busy": "2020-11-07T08:06:35.141201Z",
     "iopub.status.idle": "2020-11-07T08:06:35.143210Z",
     "shell.execute_reply": "2020-11-07T08:06:35.143537Z"
    },
    "papermill": {
     "duration": 0.022671,
     "end_time": "2020-11-07T08:06:35.143675",
     "exception": false,
     "start_time": "2020-11-07T08:06:35.121004",
     "status": "completed"
    },
    "tags": [
     "injected-parameters"
    ]
   },
   "outputs": [],
   "source": [
    "# Parameters\n",
    "REGION = \"entebbe\"\n",
    "UTM = 32636\n",
    "PIPELINE = \"gridded-population\"\n"
   ]
  },
  {
   "cell_type": "code",
   "execution_count": 3,
   "metadata": {
    "Collapsed": "false",
    "ExecuteTime": {
     "end_time": "2020-08-21T15:34:58.892158Z",
     "start_time": "2020-08-21T15:34:58.047938Z"
    },
    "execution": {
     "iopub.execute_input": "2020-11-07T08:06:35.184425Z",
     "iopub.status.busy": "2020-11-07T08:06:35.183992Z",
     "iopub.status.idle": "2020-11-07T08:06:35.891547Z",
     "shell.execute_reply": "2020-11-07T08:06:35.891178Z",
     "shell.execute_reply.started": "2020-11-07T07:34:08.937986Z"
    },
    "papermill": {
     "duration": 0.732755,
     "end_time": "2020-11-07T08:06:35.891630",
     "exception": false,
     "start_time": "2020-11-07T08:06:35.158875",
     "status": "completed"
    },
    "tags": []
   },
   "outputs": [],
   "source": [
    "#hide\n",
    "import geopandas as gpd\n",
    "import matplotlib.pyplot as plt\n",
    "import numpy as np\n",
    "import pandas as pd\n",
    "import rasterio as rio\n",
    "import seaborn as sns\n",
    "import warnings\n",
    "\n",
    "from datetime import datetime as dt\n",
    "from pathlib import Path\n",
    "from rasterio.mask import mask\n",
    "from shapely.geometry import Polygon\n",
    "\n",
    "WGS84 = 4326\n",
    "MERCATOR = 3857\n",
    "CWD = Path('.')\n",
    "DATA = Path('data')\n",
    "\n",
    "INTER  = DATA/'inter'\n",
    "INPUT  = DATA/'input'\n",
    "OUTPUT = DATA/'output'\n",
    "\n",
    "warnings.filterwarnings('ignore')\n",
    "plt.style.use('fivethirtyeight')\n",
    "%matplotlib inline"
   ]
  },
  {
   "cell_type": "code",
   "execution_count": 4,
   "metadata": {
    "execution": {
     "iopub.execute_input": "2020-11-07T08:06:35.920545Z",
     "iopub.status.busy": "2020-11-07T08:06:35.920178Z",
     "iopub.status.idle": "2020-11-07T08:06:35.921991Z",
     "shell.execute_reply": "2020-11-07T08:06:35.921659Z",
     "shell.execute_reply.started": "2020-11-07T07:34:10.862814Z"
    },
    "papermill": {
     "duration": 0.018513,
     "end_time": "2020-11-07T08:06:35.922068",
     "exception": false,
     "start_time": "2020-11-07T08:06:35.903555",
     "status": "completed"
    },
    "tags": []
   },
   "outputs": [],
   "source": [
    "# hide\n",
    "def show(*args):\n",
    "    fig, ax = plt.subplots(nrows=1, ncols=1, figsize=(10, 10))\n",
    "    ax.set_axis_off()\n",
    "    \n",
    "    for d in args:\n",
    "        if type(d) is gpd.GeoDataFrame:\n",
    "            d.plot(ax=ax, facecolor='olive', edgecolor='white', alpha=0.5)\n",
    "        elif type(d) is np.ndarray:\n",
    "            ax.imshow(d, cmap='RdYlGn_r', extent=box[[0,2,1,3]])\n",
    "        else:\n",
    "            continue"
   ]
  },
  {
   "cell_type": "markdown",
   "metadata": {
    "Collapsed": "false",
    "papermill": {
     "duration": 0.011645,
     "end_time": "2020-11-07T08:06:35.945546",
     "exception": false,
     "start_time": "2020-11-07T08:06:35.933901",
     "status": "completed"
    },
    "tags": []
   },
   "source": [
    "# Load the city boundary GeoJSON file"
   ]
  },
  {
   "cell_type": "code",
   "execution_count": 5,
   "metadata": {
    "Collapsed": "false",
    "ExecuteTime": {
     "end_time": "2020-08-21T15:35:03.288313Z",
     "start_time": "2020-08-21T15:35:03.256805Z"
    },
    "execution": {
     "iopub.execute_input": "2020-11-07T08:06:36.023576Z",
     "iopub.status.busy": "2020-11-07T08:06:36.021666Z",
     "iopub.status.idle": "2020-11-07T08:06:36.100328Z",
     "shell.execute_reply": "2020-11-07T08:06:36.101103Z",
     "shell.execute_reply.started": "2020-11-07T07:34:46.089906Z"
    },
    "papermill": {
     "duration": 0.143948,
     "end_time": "2020-11-07T08:06:36.101374",
     "exception": false,
     "start_time": "2020-11-07T08:06:35.957426",
     "status": "completed"
    },
    "tags": []
   },
   "outputs": [
    {
     "data": {
      "image/png": "[encoded data removed]",
      "text/plain": [
       "<Figure size 720x720 with 1 Axes>"
      ]
     },
     "metadata": {
      "needs_background": "light"
     },
     "output_type": "display_data"
    }
   ],
   "source": [
    "\n",
    "# Read the data & change the CRS to 4326\n",
    "region = gpd.read_file(INPUT/f'{REGION}.geojson').to_crs(epsg=WGS84)\n",
    "box    = region.total_bounds\n",
    "\n",
    "show(region)"
   ]
  },
  {
   "cell_type": "markdown",
   "metadata": {
    "Collapsed": "false",
    "papermill": {
     "duration": 0.013082,
     "end_time": "2020-11-07T08:06:36.144706",
     "exception": false,
     "start_time": "2020-11-07T08:06:36.131624",
     "status": "completed"
    },
    "tags": []
   },
   "source": [
    "# Load Population data\n",
    "\n",
    "- Read the [Gridded Population of the World (GPW)](https://sedac.ciesin.columbia.edu/data/collection/gpw-v4) dataset, which is available as a Raster TIFF file\n",
    "- Clip it to the city boundary using the GeoJSON file\n",
    "- Save the clipped raster"
   ]
  },
  {
   "cell_type": "code",
   "execution_count": 6,
   "metadata": {
    "Collapsed": "false",
    "ExecuteTime": {
     "end_time": "2020-08-21T15:35:15.355647Z",
     "start_time": "2020-08-21T15:35:15.045684Z"
    },
    "execution": {
     "iopub.execute_input": "2020-11-07T08:06:36.173585Z",
     "iopub.status.busy": "2020-11-07T08:06:36.173222Z",
     "iopub.status.idle": "2020-11-07T08:06:36.296755Z",
     "shell.execute_reply": "2020-11-07T08:06:36.296346Z",
     "shell.execute_reply.started": "2020-11-07T07:34:50.348693Z"
    },
    "papermill": {
     "duration": 0.139975,
     "end_time": "2020-11-07T08:06:36.296851",
     "exception": false,
     "start_time": "2020-11-07T08:06:36.156876",
     "status": "completed"
    },
    "tags": []
   },
   "outputs": [
    {
     "data": {
      "image/png": "[encoded data removed]",
      "text/plain": [
       "<Figure size 720x720 with 1 Axes>"
      ]
     },
     "metadata": {
      "needs_background": "light"
     },
     "output_type": "display_data"
    }
   ],
   "source": [
    "\n",
    "# Read GPW data\n",
    "gpw = rio.open(INPUT/'gpw_world.tif')\n",
    "gpw_region = gpw.read(1, window=gpw.window(*box))\n",
    "\n",
    "# Clip to the region boundary\n",
    "region_mask, region_mask_tfm = mask(dataset=gpw, shapes=region.geometry, all_touched=True, crop=True, filled=True)\n",
    "region_mask = np.where(region_mask < 0, 0, region_mask).squeeze()\n",
    "\n",
    "# Save the clipped raster\n",
    "region_meta = gpw.meta\n",
    "region_meta.update(dict(\n",
    "    driver='GTiff',\n",
    "    height=region_mask.shape[0],\n",
    "    width=region_mask.shape[1],\n",
    "    transform=region_mask_tfm\n",
    "))\n",
    "with rio.open(INTER/f'{REGION}_gpw_output.tif', 'w', **region_meta) as f: f.write(region_mask, indexes=1)\n",
    "\n",
    "show(region, region_mask)"
   ]
  },
  {
   "cell_type": "markdown",
   "metadata": {
    "Collapsed": "false",
    "papermill": {
     "duration": 0.016897,
     "end_time": "2020-11-07T08:06:36.327309",
     "exception": false,
     "start_time": "2020-11-07T08:06:36.310412",
     "status": "completed"
    },
    "tags": []
   },
   "source": [
    "# Polygonize the clipped raster\n",
    "\n",
    "Population data for the city is now available as a Raster TIFF file. In order to read it as a GeoDataFrame & perform spatial operations, we would need to polygonise the raster into a vector format.\n",
    "\n",
    "We can do this using the rasterio library in python."
   ]
  },
  {
   "cell_type": "markdown",
   "metadata": {
    "execution": {
     "iopub.execute_input": "2020-11-06T10:27:02.980743Z",
     "iopub.status.busy": "2020-11-06T10:27:02.980552Z",
     "iopub.status.idle": "2020-11-06T10:27:02.984331Z",
     "shell.execute_reply": "2020-11-06T10:27:02.983611Z",
     "shell.execute_reply.started": "2020-11-06T10:27:02.980725Z"
    },
    "papermill": {
     "duration": 0.014671,
     "end_time": "2020-11-07T08:06:36.356486",
     "exception": false,
     "start_time": "2020-11-07T08:06:36.341815",
     "status": "completed"
    },
    "tags": []
   },
   "source": [
    "> Tip: Use rasterio CLI inside jupyter notebooks, save a few lines of pythonic code"
   ]
  },
  {
   "cell_type": "code",
   "execution_count": 7,
   "metadata": {
    "Collapsed": "false",
    "ExecuteTime": {
     "end_time": "2020-08-21T15:35:19.508913Z",
     "start_time": "2020-08-21T15:35:18.371680Z"
    },
    "execution": {
     "iopub.execute_input": "2020-11-07T08:06:36.390389Z",
     "iopub.status.busy": "2020-11-07T08:06:36.389978Z",
     "iopub.status.idle": "2020-11-07T08:06:37.427130Z",
     "shell.execute_reply": "2020-11-07T08:06:37.428496Z",
     "shell.execute_reply.started": "2020-11-07T07:34:54.336468Z"
    },
    "papermill": {
     "duration": 1.057427,
     "end_time": "2020-11-07T08:06:37.428794",
     "exception": false,
     "start_time": "2020-11-07T08:06:36.371367",
     "status": "completed"
    },
    "tags": []
   },
   "outputs": [],
   "source": [
    "\n",
    "# Converts vector to raster\n",
    "!rio shapes {INTER/REGION}_gpw_output.tif --bidx 1 --precision 6 > {INTER/REGION}_gpw_output.geojson"
   ]
  },
  {
   "cell_type": "code",
   "execution_count": 8,
   "metadata": {
    "execution": {
     "iopub.execute_input": "2020-11-07T08:06:37.508367Z",
     "iopub.status.busy": "2020-11-07T08:06:37.484762Z",
     "iopub.status.idle": "2020-11-07T08:06:37.559025Z",
     "shell.execute_reply": "2020-11-07T08:06:37.559315Z",
     "shell.execute_reply.started": "2020-11-07T07:34:56.458773Z"
    },
    "papermill": {
     "duration": 0.094684,
     "end_time": "2020-11-07T08:06:37.559423",
     "exception": false,
     "start_time": "2020-11-07T08:06:37.464739",
     "status": "completed"
    },
    "tags": []
   },
   "outputs": [
    {
     "data": {
      "text/html": [
       "<div>\n",
       "<style scoped>\n",
       "    .dataframe tbody tr th:only-of-type {\n",
       "        vertical-align: middle;\n",
       "    }\n",
       "\n",
       "    .dataframe tbody tr th {\n",
       "        vertical-align: top;\n",
       "    }\n",
       "\n",
       "    .dataframe thead th {\n",
       "        text-align: right;\n",
       "    }\n",
       "</style>\n",
       "<table border=\"1\" class=\"dataframe\">\n",
       "  <thead>\n",
       "    <tr style=\"text-align: right;\">\n",
       "      <th></th>\n",
       "      <th>tile_idx</th>\n",
       "      <th>tile_population</th>\n",
       "      <th>geometry</th>\n",
       "      <th>tile_width</th>\n",
       "      <th>tile_height</th>\n",
       "    </tr>\n",
       "  </thead>\n",
       "  <tbody>\n",
       "    <tr>\n",
       "      <th>0</th>\n",
       "      <td>0</td>\n",
       "      <td>951.154541</td>\n",
       "      <td>POLYGON ((3613245.102 12059.582, 3613245.102 1...</td>\n",
       "      <td>1</td>\n",
       "      <td>1</td>\n",
       "    </tr>\n",
       "    <tr>\n",
       "      <th>1</th>\n",
       "      <td>1</td>\n",
       "      <td>83.053543</td>\n",
       "      <td>POLYGON ((3612317.476 11131.955, 3612317.476 1...</td>\n",
       "      <td>1</td>\n",
       "      <td>1</td>\n",
       "    </tr>\n",
       "    <tr>\n",
       "      <th>2</th>\n",
       "      <td>2</td>\n",
       "      <td>2548.716309</td>\n",
       "      <td>POLYGON ((3613245.102 11131.955, 3613245.102 1...</td>\n",
       "      <td>1</td>\n",
       "      <td>1</td>\n",
       "    </tr>\n",
       "    <tr>\n",
       "      <th>3</th>\n",
       "      <td>3</td>\n",
       "      <td>2494.964355</td>\n",
       "      <td>POLYGON ((3614172.838 11131.955, 3614172.838 1...</td>\n",
       "      <td>1</td>\n",
       "      <td>1</td>\n",
       "    </tr>\n",
       "    <tr>\n",
       "      <th>4</th>\n",
       "      <td>4</td>\n",
       "      <td>1754.362915</td>\n",
       "      <td>POLYGON ((3615100.464 11131.955, 3615100.464 1...</td>\n",
       "      <td>1</td>\n",
       "      <td>1</td>\n",
       "    </tr>\n",
       "  </tbody>\n",
       "</table>\n",
       "</div>"
      ],
      "text/plain": [
       "   tile_idx  tile_population  \\\n",
       "0         0       951.154541   \n",
       "1         1        83.053543   \n",
       "2         2      2548.716309   \n",
       "3         3      2494.964355   \n",
       "4         4      1754.362915   \n",
       "\n",
       "                                            geometry  tile_width  tile_height  \n",
       "0  POLYGON ((3613245.102 12059.582, 3613245.102 1...           1            1  \n",
       "1  POLYGON ((3612317.476 11131.955, 3612317.476 1...           1            1  \n",
       "2  POLYGON ((3613245.102 11131.955, 3613245.102 1...           1            1  \n",
       "3  POLYGON ((3614172.838 11131.955, 3614172.838 1...           1            1  \n",
       "4  POLYGON ((3615100.464 11131.955, 3615100.464 1...           1            1  "
      ]
     },
     "metadata": {},
     "output_type": "display_data"
    },
    {
     "name": "stdout",
     "output_type": "stream",
     "text": [
      "# of tiles: 59, Area covered: 60.24 km.sq\n",
      "Population statistics: mean: 2067.18, median: 1440.72, std: 4242.24\n"
     ]
    }
   ],
   "source": [
    "#hide_input\n",
    "# Clean vectorized GPW data & add tile_width, tile_height as properties\n",
    "\n",
    "from functools import wraps\n",
    "from datetime import datetime as dt\n",
    "\n",
    "\n",
    "def log(fn):\n",
    "    @wraps(fn)\n",
    "    def _inner(*args, **kwargs):\n",
    "        tic = dt.now()\n",
    "        r = fn(*args, **kwargs)\n",
    "        tac = dt.now()\n",
    "        # print(f'Shape: {r.shape}, Execution time: {((tac - tic).microseconds)/1000:.2f} ms, Function: {fn.__name__}')\n",
    "        return r\n",
    "    return _inner\n",
    "\n",
    "@log\n",
    "def make_copy(df): return df.copy()\n",
    "\n",
    "@log\n",
    "def drop_cols(df, labels=None): return df.drop(labels, axis=1)\n",
    "\n",
    "@log\n",
    "def filter_rows(df, cond): return df.query(cond)\n",
    "\n",
    "@log\n",
    "def change_crs(df, crs): return df.to_crs(epsg=crs)\n",
    "\n",
    "@log\n",
    "def add_attrs(df):\n",
    "    bounds = df.geometry.bounds\n",
    "    width  = bounds['maxx'] - bounds['minx']\n",
    "    height = bounds['maxy'] - bounds['miny']\n",
    "    \n",
    "    min_width  = np.min(width)\n",
    "    min_height = np.min(height)\n",
    "    \n",
    "    df['width']  = ((bounds['maxx'] - bounds['minx']) / min_width ).astype(int)\n",
    "    df['height'] = ((bounds['maxy'] - bounds['miny']) / min_height).astype(int)\n",
    "    \n",
    "    df = df.reset_index(drop=True).reset_index()\n",
    "    df = df.rename(columns={'index': 'tile_idx', 'val': 'tile_population', 'width': 'tile_width', 'height': 'tile_height'})\n",
    "    \n",
    "    return df\n",
    "\n",
    "tiles_gdf = gpd.read_file(f'{INTER/REGION}_gpw_output.geojson')\n",
    "\n",
    "tiles_gdf = (tiles_gdf.pipe(make_copy)\n",
    "            .pipe(drop_cols, labels=['id', 'filename'])\n",
    "            .pipe(filter_rows, 'val > 0')\n",
    "            .pipe(change_crs, MERCATOR)\n",
    "            .pipe(add_attrs))\n",
    "\n",
    "display(tiles_gdf.head())\n",
    "\n",
    "# BUG in rasterio: Combines adjacent tiles but doesn't aggregate the values\n",
    "tiles_gdf['tile_population'] = tiles_gdf['tile_population'] * (tiles_gdf.tile_width * tiles_gdf.tile_height)\n",
    "\n",
    "# The area printed is not correct, as the projection is MERCATOR\n",
    "print(f'# of tiles: {tiles_gdf.shape[0]}, Area covered: {tiles_gdf.area.sum() / 1000000:.2f} km.sq')\n",
    "\n",
    "print(f'''Population statistics: mean: {tiles_gdf.tile_population.mean():.2f}, median: {tiles_gdf.tile_population.median():.2f}, std: {tiles_gdf.tile_population.std():.2f}''')"
   ]
  },
  {
   "cell_type": "markdown",
   "metadata": {
    "Collapsed": "false",
    "papermill": {
     "duration": 0.014609,
     "end_time": "2020-11-07T08:06:37.588571",
     "exception": false,
     "start_time": "2020-11-07T08:06:37.573962",
     "status": "completed"
    },
    "tags": []
   },
   "source": [
    "# Gridify\n",
    "\n",
    "The vectorized GPW GeoJSON file gives us **population** for the city at **1km x 1km spatial resolution**.\n",
    "\n",
    "The intent is to estimate the population at **100m x 100m spatial resolution**. To achieve this, we have to:\n",
    "- Gridify: Split the 1km x 1km TILE into smaller grids of size 100m x 100m\n",
    "- Each 1km x 1km TILE will give us 100 GRIDs of size 100m x 100m"
   ]
  },
  {
   "cell_type": "markdown",
   "metadata": {
    "papermill": {
     "duration": 0.013868,
     "end_time": "2020-11-07T08:06:37.616581",
     "exception": false,
     "start_time": "2020-11-07T08:06:37.602713",
     "status": "completed"
    },
    "tags": []
   },
   "source": [
    "> Tip: Gridification works well only for the MERCATOR projection, make sure your GeoDataFrames have proper CRS before performing this operation."
   ]
  },
  {
   "cell_type": "code",
   "execution_count": 9,
   "metadata": {
    "Collapsed": "false",
    "ExecuteTime": {
     "end_time": "2020-08-21T15:35:37.821053Z",
     "start_time": "2020-08-21T15:35:30.278801Z"
    },
    "execution": {
     "iopub.execute_input": "2020-11-07T08:06:37.651760Z",
     "iopub.status.busy": "2020-11-07T08:06:37.651018Z",
     "iopub.status.idle": "2020-11-07T08:06:40.478875Z",
     "shell.execute_reply": "2020-11-07T08:06:40.478539Z",
     "shell.execute_reply.started": "2020-11-07T07:34:59.283743Z"
    },
    "papermill": {
     "duration": 2.848409,
     "end_time": "2020-11-07T08:06:40.478968",
     "exception": false,
     "start_time": "2020-11-07T08:06:37.630559",
     "status": "completed"
    },
    "tags": []
   },
   "outputs": [
    {
     "data": {
      "text/html": [
       "<div>\n",
       "<style scoped>\n",
       "    .dataframe tbody tr th:only-of-type {\n",
       "        vertical-align: middle;\n",
       "    }\n",
       "\n",
       "    .dataframe tbody tr th {\n",
       "        vertical-align: top;\n",
       "    }\n",
       "\n",
       "    .dataframe thead th {\n",
       "        text-align: right;\n",
       "    }\n",
       "</style>\n",
       "<table border=\"1\" class=\"dataframe\">\n",
       "  <thead>\n",
       "    <tr style=\"text-align: right;\">\n",
       "      <th></th>\n",
       "      <th>idx</th>\n",
       "      <th>geometry</th>\n",
       "      <th>tile_idx</th>\n",
       "      <th>tile_population</th>\n",
       "      <th>tile_width</th>\n",
       "      <th>tile_height</th>\n",
       "    </tr>\n",
       "  </thead>\n",
       "  <tbody>\n",
       "    <tr>\n",
       "      <th>0</th>\n",
       "      <td>0</td>\n",
       "      <td>POLYGON ((439725.228 11974.590, 439817.968 119...</td>\n",
       "      <td>0</td>\n",
       "      <td>951.154541</td>\n",
       "      <td>1</td>\n",
       "      <td>1</td>\n",
       "    </tr>\n",
       "    <tr>\n",
       "      <th>1</th>\n",
       "      <td>1</td>\n",
       "      <td>POLYGON ((439725.226 11882.482, 439817.967 118...</td>\n",
       "      <td>0</td>\n",
       "      <td>951.154541</td>\n",
       "      <td>1</td>\n",
       "      <td>1</td>\n",
       "    </tr>\n",
       "    <tr>\n",
       "      <th>2</th>\n",
       "      <td>2</td>\n",
       "      <td>POLYGON ((439725.224 11790.373, 439817.965 117...</td>\n",
       "      <td>0</td>\n",
       "      <td>951.154541</td>\n",
       "      <td>1</td>\n",
       "      <td>1</td>\n",
       "    </tr>\n",
       "    <tr>\n",
       "      <th>3</th>\n",
       "      <td>3</td>\n",
       "      <td>POLYGON ((439725.223 11698.264, 439817.963 116...</td>\n",
       "      <td>0</td>\n",
       "      <td>951.154541</td>\n",
       "      <td>1</td>\n",
       "      <td>1</td>\n",
       "    </tr>\n",
       "    <tr>\n",
       "      <th>4</th>\n",
       "      <td>4</td>\n",
       "      <td>POLYGON ((439725.221 11606.155, 439817.962 116...</td>\n",
       "      <td>0</td>\n",
       "      <td>951.154541</td>\n",
       "      <td>1</td>\n",
       "      <td>1</td>\n",
       "    </tr>\n",
       "  </tbody>\n",
       "</table>\n",
       "</div>"
      ],
      "text/plain": [
       "   idx                                           geometry  tile_idx  \\\n",
       "0    0  POLYGON ((439725.228 11974.590, 439817.968 119...         0   \n",
       "1    1  POLYGON ((439725.226 11882.482, 439817.967 118...         0   \n",
       "2    2  POLYGON ((439725.224 11790.373, 439817.965 117...         0   \n",
       "3    3  POLYGON ((439725.223 11698.264, 439817.963 116...         0   \n",
       "4    4  POLYGON ((439725.221 11606.155, 439817.962 116...         0   \n",
       "\n",
       "   tile_population  tile_width  tile_height  \n",
       "0       951.154541           1            1  \n",
       "1       951.154541           1            1  \n",
       "2       951.154541           1            1  \n",
       "3       951.154541           1            1  \n",
       "4       951.154541           1            1  "
      ]
     },
     "execution_count": 9,
     "metadata": {},
     "output_type": "execute_result"
    }
   ],
   "source": [
    "def gridify(tile):\n",
    "    polygons = []\n",
    "    xmin,ymin,xmax,ymax = tile.geometry.bounds\n",
    "    width = tile.tile_width\n",
    "    height = tile.tile_height\n",
    "\n",
    "    stepx = +(xmax - xmin)/(10 * width )\n",
    "    stepy = -(ymax - ymin)/(10 * height)\n",
    "\n",
    "    for x in np.arange(xmin, xmax, stepx):\n",
    "        for y in np.arange(ymax, ymin, stepy):\n",
    "            poly = [\n",
    "                (x        , y        ),\n",
    "                (x + stepx, y        ),\n",
    "                (x + stepx, y + stepy),\n",
    "                (x        , y + stepy)\n",
    "            ]\n",
    "            polygons.append(Polygon(poly))\n",
    "\n",
    "    d = {\n",
    "        'geometry': polygons,\n",
    "        'tile_idx': tile.tile_idx,\n",
    "        'tile_population': tile.tile_population,\n",
    "        'tile_width': tile.tile_width,\n",
    "        'tile_height': tile.tile_height\n",
    "    }\n",
    "    \n",
    "    grids_gdf = gpd.GeoDataFrame(d, crs=f'EPSG:{MERCATOR}')\n",
    "    tile_gdf  = gpd.GeoDataFrame(tile.to_frame().T, crs=f'EPSG:{MERCATOR}')\n",
    "    grids_gdf = gpd.clip(grids_gdf, tile_gdf)\n",
    "        \n",
    "    return grids_gdf\n",
    "\n",
    "# For each TILE create the GRIDs\n",
    "grids_gdf = tiles_gdf.apply(gridify, axis=1)\n",
    "grids_gdf = pd.concat(grids_gdf.to_list())\n",
    "grids_gdf = grids_gdf.reset_index(drop=True).reset_index().rename(columns={'index': 'idx'}).to_crs(epsg=UTM)\n",
    "\n",
    "# Change the CRS of TILEs & GRIDs back to their region respective UTM coordinates\n",
    "tiles_gdf = tiles_gdf.to_crs(epsg=UTM)\n",
    "grids_gdf = grids_gdf.to_crs(epsg=UTM)\n",
    "region = region.to_crs(epsg=UTM)\n",
    "\n",
    "grids_gdf.head()"
   ]
  },
  {
   "cell_type": "code",
   "execution_count": 10,
   "metadata": {
    "execution": {
     "iopub.execute_input": "2020-11-07T08:06:40.524321Z",
     "iopub.status.busy": "2020-11-07T08:06:40.523246Z",
     "iopub.status.idle": "2020-11-07T08:06:41.765753Z",
     "shell.execute_reply": "2020-11-07T08:06:41.766350Z",
     "shell.execute_reply.started": "2020-11-07T07:35:02.126446Z"
    },
    "papermill": {
     "duration": 1.269187,
     "end_time": "2020-11-07T08:06:41.766535",
     "exception": false,
     "start_time": "2020-11-07T08:06:40.497348",
     "status": "completed"
    },
    "tags": []
   },
   "outputs": [
    {
     "data": {
      "image/png": "[encoded data removed]",
      "text/plain": [
       "<Figure size 720x720 with 1 Axes>"
      ]
     },
     "metadata": {
      "needs_background": "light"
     },
     "output_type": "display_data"
    }
   ],
   "source": [
    "#hide_input\n",
    "# Plot the 100m x 100m GRIDs for each TILE\n",
    "fig, ax = plt.subplots(1,1,figsize=(10, 10))\n",
    "grids_gdf.plot(ax=ax, cmap='RdYlGn_r', edgecolor='k', alpha=0.5, column='tile_population')\n",
    "ax.set_axis_off()"
   ]
  },
  {
   "cell_type": "markdown",
   "metadata": {
    "Collapsed": "false",
    "papermill": {
     "duration": 0.015413,
     "end_time": "2020-11-07T08:06:41.809160",
     "exception": false,
     "start_time": "2020-11-07T08:06:41.793747",
     "status": "completed"
    },
    "tags": []
   },
   "source": [
    "# Load building footprints dataset\n",
    "\n",
    "We are using buildings as a proxy for estimating the human population.\n",
    "\n",
    "Microsoft has been kind of to release building footprints for multiple regions around the globe, please check them out [HERE](https://www.microsoft.com/en-us/maps/building-footprints). Fortunately, the city we are considering here (Fortportal in Uganda) is also made available by them.\n",
    "\n",
    "If you are considering a region for which there are no readily available building footprints, here are a few alternatives:\n",
    "- Check Open Street Map (OSM), they have a good coverage of a lot of places around the globe. Also, consider contributing to that as well\n",
    "- Put your deep learning skills in practice, try getting hands on some satellite imagery of the region & generate building footprints using Segmentation models. Dave luo has a nice blog post about the same [LINK](https://medium.com/@anthropoco/how-to-segment-buildings-on-drone-imagery-with-fast-ai-cloud-native-geodata-tools-ae249612c321)."
   ]
  },
  {
   "cell_type": "code",
   "execution_count": 11,
   "metadata": {
    "Collapsed": "false",
    "ExecuteTime": {
     "end_time": "2020-08-21T15:35:51.686257Z",
     "start_time": "2020-08-21T15:35:45.658463Z"
    },
    "execution": {
     "iopub.execute_input": "2020-11-07T08:06:42.238069Z",
     "iopub.status.busy": "2020-11-07T08:06:42.237621Z",
     "iopub.status.idle": "2020-11-07T08:06:44.148858Z",
     "shell.execute_reply": "2020-11-07T08:06:44.148407Z",
     "shell.execute_reply.started": "2020-11-07T07:35:06.933536Z"
    },
    "papermill": {
     "duration": 2.323578,
     "end_time": "2020-11-07T08:06:44.148956",
     "exception": false,
     "start_time": "2020-11-07T08:06:41.825378",
     "status": "completed"
    },
    "tags": []
   },
   "outputs": [
    {
     "data": {
      "text/html": [
       "<div>\n",
       "<style scoped>\n",
       "    .dataframe tbody tr th:only-of-type {\n",
       "        vertical-align: middle;\n",
       "    }\n",
       "\n",
       "    .dataframe tbody tr th {\n",
       "        vertical-align: top;\n",
       "    }\n",
       "\n",
       "    .dataframe thead th {\n",
       "        text-align: right;\n",
       "    }\n",
       "</style>\n",
       "<table border=\"1\" class=\"dataframe\">\n",
       "  <thead>\n",
       "    <tr style=\"text-align: right;\">\n",
       "      <th></th>\n",
       "      <th>building_count</th>\n",
       "      <th>centroid</th>\n",
       "      <th>building_area</th>\n",
       "    </tr>\n",
       "  </thead>\n",
       "  <tbody>\n",
       "    <tr>\n",
       "      <th>0</th>\n",
       "      <td>MULTIPOLYGON (((438747.248 8597.869, 438762.04...</td>\n",
       "      <td>POINT (438754.786 8600.959)</td>\n",
       "      <td>99.571401</td>\n",
       "    </tr>\n",
       "    <tr>\n",
       "      <th>1</th>\n",
       "      <td>MULTIPOLYGON (((438848.737 8774.834, 438854.19...</td>\n",
       "      <td>POINT (438851.645 8776.241)</td>\n",
       "      <td>18.548934</td>\n",
       "    </tr>\n",
       "    <tr>\n",
       "      <th>2</th>\n",
       "      <td>MULTIPOLYGON (((438838.725 8963.849, 438849.63...</td>\n",
       "      <td>POINT (438839.422 8982.129)</td>\n",
       "      <td>292.434775</td>\n",
       "    </tr>\n",
       "    <tr>\n",
       "      <th>3</th>\n",
       "      <td>MULTIPOLYGON (((438815.336 7326.934, 438814.77...</td>\n",
       "      <td>POINT (438811.497 7329.753)</td>\n",
       "      <td>45.240722</td>\n",
       "    </tr>\n",
       "    <tr>\n",
       "      <th>4</th>\n",
       "      <td>MULTIPOLYGON (((438880.437 7517.165, 438879.99...</td>\n",
       "      <td>POINT (438877.461 7521.571)</td>\n",
       "      <td>50.013249</td>\n",
       "    </tr>\n",
       "  </tbody>\n",
       "</table>\n",
       "</div>"
      ],
      "text/plain": [
       "                                      building_count  \\\n",
       "0  MULTIPOLYGON (((438747.248 8597.869, 438762.04...   \n",
       "1  MULTIPOLYGON (((438848.737 8774.834, 438854.19...   \n",
       "2  MULTIPOLYGON (((438838.725 8963.849, 438849.63...   \n",
       "3  MULTIPOLYGON (((438815.336 7326.934, 438814.77...   \n",
       "4  MULTIPOLYGON (((438880.437 7517.165, 438879.99...   \n",
       "\n",
       "                      centroid  building_area  \n",
       "0  POINT (438754.786 8600.959)      99.571401  \n",
       "1  POINT (438851.645 8776.241)      18.548934  \n",
       "2  POINT (438839.422 8982.129)     292.434775  \n",
       "3  POINT (438811.497 7329.753)      45.240722  \n",
       "4  POINT (438877.461 7521.571)      50.013249  "
      ]
     },
     "execution_count": 11,
     "metadata": {},
     "output_type": "execute_result"
    }
   ],
   "source": [
    "\n",
    "# Read the building footprints data, compute the centroid & area occupied by each building\n",
    "footprints_gdf = (gpd.read_file(f'{INPUT/REGION}_footprints.geojson')\n",
    "                     .to_crs(epsg=UTM)\n",
    "                     .assign(centroid=lambda x: x.centroid,\n",
    "                             building_area=lambda x:x.geometry.area)\n",
    "                     .rename(columns={'geometry': 'building_count'})\n",
    "                     .set_geometry('centroid'))\n",
    "\n",
    "footprints_gdf.head()"
   ]
  },
  {
   "cell_type": "code",
   "execution_count": 12,
   "metadata": {
    "execution": {
     "iopub.execute_input": "2020-11-07T08:06:44.193784Z",
     "iopub.status.busy": "2020-11-07T08:06:44.193423Z",
     "iopub.status.idle": "2020-11-07T08:06:45.921640Z",
     "shell.execute_reply": "2020-11-07T08:06:45.921288Z",
     "shell.execute_reply.started": "2020-11-07T07:35:10.518276Z"
    },
    "papermill": {
     "duration": 1.757385,
     "end_time": "2020-11-07T08:06:45.921725",
     "exception": false,
     "start_time": "2020-11-07T08:06:44.164340",
     "status": "completed"
    },
    "tags": []
   },
   "outputs": [
    {
     "data": {
      "image/png": "[encoded data removed]",
      "text/plain": [
       "<Figure size 720x720 with 1 Axes>"
      ]
     },
     "metadata": {
      "needs_background": "light"
     },
     "output_type": "display_data"
    }
   ],
   "source": [
    "#hide_input\n",
    "fig, ax = plt.subplots(1,1,figsize=(10, 10))\n",
    "grids_gdf.plot(ax=ax, cmap='RdYlGn_r', edgecolor='black', alpha=0.5, column='tile_population')\n",
    "footprints_gdf.plot(ax=ax, color='black', alpha=0.5, markersize=2)\n",
    "ax.set_axis_off()"
   ]
  },
  {
   "cell_type": "markdown",
   "metadata": {
    "papermill": {
     "duration": 0.026932,
     "end_time": "2020-11-07T08:06:45.965704",
     "exception": false,
     "start_time": "2020-11-07T08:06:45.938772",
     "status": "completed"
    },
    "tags": []
   },
   "source": [
    "# Compute building statistics (# of buildings, area occupied by buildings) for each GRID\n",
    "\n",
    "Now, we have:\n",
    "- GRIDs at 100m x 100m resolution\n",
    "- Building footprints for the city\n",
    "\n",
    "We would like to find the buildings falling under each GRID & then compute their count & area occupancy. We can do a spatial join between the two DataFrames, which is much faster thanks to geopandas > 0.8. We take the centroid of each building footprints & do a spatial join with the GRID boundaries."
   ]
  },
  {
   "cell_type": "code",
   "execution_count": 13,
   "metadata": {
    "Collapsed": "false",
    "ExecuteTime": {
     "end_time": "2020-08-21T15:36:27.735481Z",
     "start_time": "2020-08-21T15:36:22.561616Z"
    },
    "execution": {
     "iopub.execute_input": "2020-11-07T08:06:46.001734Z",
     "iopub.status.busy": "2020-11-07T08:06:46.001393Z",
     "iopub.status.idle": "2020-11-07T08:06:47.170687Z",
     "shell.execute_reply": "2020-11-07T08:06:47.170324Z",
     "shell.execute_reply.started": "2020-11-07T07:35:15.770052Z"
    },
    "papermill": {
     "duration": 1.189503,
     "end_time": "2020-11-07T08:06:47.170774",
     "exception": false,
     "start_time": "2020-11-07T08:06:45.981271",
     "status": "completed"
    },
    "tags": []
   },
   "outputs": [
    {
     "data": {
      "text/html": [
       "<div>\n",
       "<style scoped>\n",
       "    .dataframe tbody tr th:only-of-type {\n",
       "        vertical-align: middle;\n",
       "    }\n",
       "\n",
       "    .dataframe tbody tr th {\n",
       "        vertical-align: top;\n",
       "    }\n",
       "\n",
       "    .dataframe thead th {\n",
       "        text-align: right;\n",
       "    }\n",
       "</style>\n",
       "<table border=\"1\" class=\"dataframe\">\n",
       "  <thead>\n",
       "    <tr style=\"text-align: right;\">\n",
       "      <th></th>\n",
       "      <th>idx</th>\n",
       "      <th>geometry</th>\n",
       "      <th>grid_building_area</th>\n",
       "      <th>grid_building_count</th>\n",
       "      <th>tile_idx</th>\n",
       "      <th>tile_population</th>\n",
       "      <th>tile_width</th>\n",
       "      <th>tile_height</th>\n",
       "    </tr>\n",
       "  </thead>\n",
       "  <tbody>\n",
       "    <tr>\n",
       "      <th>0</th>\n",
       "      <td>0</td>\n",
       "      <td>POLYGON ((439725.228 11974.590, 439817.968 119...</td>\n",
       "      <td>0.0</td>\n",
       "      <td>0</td>\n",
       "      <td>0</td>\n",
       "      <td>951.154541</td>\n",
       "      <td>1</td>\n",
       "      <td>1</td>\n",
       "    </tr>\n",
       "    <tr>\n",
       "      <th>1</th>\n",
       "      <td>1</td>\n",
       "      <td>POLYGON ((439725.226 11882.482, 439817.967 118...</td>\n",
       "      <td>0.0</td>\n",
       "      <td>0</td>\n",
       "      <td>0</td>\n",
       "      <td>951.154541</td>\n",
       "      <td>1</td>\n",
       "      <td>1</td>\n",
       "    </tr>\n",
       "    <tr>\n",
       "      <th>2</th>\n",
       "      <td>2</td>\n",
       "      <td>POLYGON ((439725.224 11790.373, 439817.965 117...</td>\n",
       "      <td>0.0</td>\n",
       "      <td>0</td>\n",
       "      <td>0</td>\n",
       "      <td>951.154541</td>\n",
       "      <td>1</td>\n",
       "      <td>1</td>\n",
       "    </tr>\n",
       "    <tr>\n",
       "      <th>3</th>\n",
       "      <td>3</td>\n",
       "      <td>POLYGON ((439725.223 11698.264, 439817.963 116...</td>\n",
       "      <td>0.0</td>\n",
       "      <td>0</td>\n",
       "      <td>0</td>\n",
       "      <td>951.154541</td>\n",
       "      <td>1</td>\n",
       "      <td>1</td>\n",
       "    </tr>\n",
       "    <tr>\n",
       "      <th>4</th>\n",
       "      <td>4</td>\n",
       "      <td>POLYGON ((439725.221 11606.155, 439817.962 116...</td>\n",
       "      <td>0.0</td>\n",
       "      <td>0</td>\n",
       "      <td>0</td>\n",
       "      <td>951.154541</td>\n",
       "      <td>1</td>\n",
       "      <td>1</td>\n",
       "    </tr>\n",
       "  </tbody>\n",
       "</table>\n",
       "</div>"
      ],
      "text/plain": [
       "   idx                                           geometry  grid_building_area  \\\n",
       "0    0  POLYGON ((439725.228 11974.590, 439817.968 119...                 0.0   \n",
       "1    1  POLYGON ((439725.226 11882.482, 439817.967 118...                 0.0   \n",
       "2    2  POLYGON ((439725.224 11790.373, 439817.965 117...                 0.0   \n",
       "3    3  POLYGON ((439725.223 11698.264, 439817.963 116...                 0.0   \n",
       "4    4  POLYGON ((439725.221 11606.155, 439817.962 116...                 0.0   \n",
       "\n",
       "   grid_building_count  tile_idx  tile_population  tile_width  tile_height  \n",
       "0                    0         0       951.154541           1            1  \n",
       "1                    0         0       951.154541           1            1  \n",
       "2                    0         0       951.154541           1            1  \n",
       "3                    0         0       951.154541           1            1  \n",
       "4                    0         0       951.154541           1            1  "
      ]
     },
     "execution_count": 13,
     "metadata": {},
     "output_type": "execute_result"
    }
   ],
   "source": [
    "def sjoin_polygon_footprints(poly_gdf, footprints_gdf, idx, name, agg):\n",
    "    poly_gdf = gpd.sjoin(poly_gdf, footprints_gdf, how='left', op='intersects')\n",
    "    poly_gdf = (poly_gdf.groupby(idx)\n",
    "                        .agg(agg)\n",
    "                        .reset_index())\n",
    "    \n",
    "    poly_gdf = (gpd.GeoDataFrame(poly_gdf, crs=f'EPSG:{UTM}')\n",
    "              .rename(columns={'building_area' : f'{name}_building_area', \n",
    "                               'building_count': f'{name}_building_count'}))\n",
    "    \n",
    "    return poly_gdf\n",
    "\n",
    "agg = {\n",
    "    'geometry'           : 'first',\n",
    "    'building_area'      : 'sum',\n",
    "    'building_count'     : 'count',\n",
    "    'tile_idx'           : 'first',\n",
    "    'tile_population'    : 'first',\n",
    "    'tile_width'         : 'first',\n",
    "    'tile_height'        : 'first'\n",
    "}\n",
    "\n",
    "grids_gdf = sjoin_polygon_footprints(grids_gdf, footprints_gdf, 'idx', 'grid', agg=agg)\n",
    "grids_gdf.head()"
   ]
  },
  {
   "cell_type": "markdown",
   "metadata": {
    "papermill": {
     "duration": 0.018084,
     "end_time": "2020-11-07T08:06:47.204950",
     "exception": false,
     "start_time": "2020-11-07T08:06:47.186866",
     "status": "completed"
    },
    "tags": []
   },
   "source": [
    "# Remove extra GRIDs that fall beyond the region boundary & adjust the population accordingly\n",
    "\n",
    "The GPW population data is available to us at 1km x 1km resolution, we are clipping that to the region boundary. When we split the TILE into GRIDs, along the edges there will be GRIDs that fall beyond the region boundary. However, we will not have building footprints available for areas outside our region boundary, so we remove the extra grids & adjust the population count by taking a ratio of the # of grids that fall with in the region boundary. "
   ]
  },
  {
   "cell_type": "code",
   "execution_count": 14,
   "metadata": {
    "Collapsed": "false",
    "ExecuteTime": {
     "end_time": "2020-08-21T15:36:40.017023Z",
     "start_time": "2020-08-21T15:36:35.906978Z"
    },
    "execution": {
     "iopub.execute_input": "2020-11-07T08:06:47.252429Z",
     "iopub.status.busy": "2020-11-07T08:06:47.252092Z",
     "iopub.status.idle": "2020-11-07T08:06:48.455147Z",
     "shell.execute_reply": "2020-11-07T08:06:48.454762Z",
     "shell.execute_reply.started": "2020-11-07T07:35:18.224484Z"
    },
    "papermill": {
     "duration": 1.233017,
     "end_time": "2020-11-07T08:06:48.455237",
     "exception": false,
     "start_time": "2020-11-07T08:06:47.222220",
     "status": "completed"
    },
    "tags": []
   },
   "outputs": [
    {
     "data": {
      "image/png": "[encoded data removed]",
      "text/plain": [
       "<Figure size 720x720 with 1 Axes>"
      ]
     },
     "metadata": {
      "needs_background": "light"
     },
     "output_type": "display_data"
    }
   ],
   "source": [
    "#hide_input\n",
    "show(region, grids_gdf)"
   ]
  },
  {
   "cell_type": "code",
   "execution_count": 15,
   "metadata": {
    "Collapsed": "false",
    "ExecuteTime": {
     "end_time": "2020-08-21T15:36:52.199574Z",
     "start_time": "2020-08-21T15:36:48.652958Z"
    },
    "execution": {
     "iopub.execute_input": "2020-11-07T08:06:48.505605Z",
     "iopub.status.busy": "2020-11-07T08:06:48.504936Z",
     "iopub.status.idle": "2020-11-07T08:06:50.561042Z",
     "shell.execute_reply": "2020-11-07T08:06:50.560690Z",
     "shell.execute_reply.started": "2020-11-07T07:35:21.156728Z"
    },
    "papermill": {
     "duration": 2.088616,
     "end_time": "2020-11-07T08:06:50.561149",
     "exception": false,
     "start_time": "2020-11-07T08:06:48.472533",
     "status": "completed"
    },
    "tags": []
   },
   "outputs": [
    {
     "data": {
      "image/png": "[encoded data removed]",
      "text/plain": [
       "<Figure size 720x720 with 1 Axes>"
      ]
     },
     "metadata": {
      "needs_background": "light"
     },
     "output_type": "display_data"
    }
   ],
   "source": [
    "#collapse-hide\n",
    "grids_gdf = gpd.sjoin(grids_gdf, region[['geometry']], how='inner', op='intersects').drop(labels='index_right', axis=1)\n",
    "\n",
    "# Fix the index of the grids\n",
    "grids_gdf = (grids_gdf.drop(labels='idx', axis=1)\n",
    "                      .reset_index(drop=True).reset_index()\n",
    "                      .rename(columns={'index': 'idx'}))\n",
    "\n",
    "# Adjust the population accordingly\n",
    "\n",
    "def recompute_population_by_grids(gp):\n",
    "    if gp.grid_building_count.sum() <= 1:  gp.tile_population = 0\n",
    "    return gp.tile_population * (gp.shape[0] / (gp.tile_width * gp.tile_height * 100))\n",
    "\n",
    "grids_gdf['tile_population'] = (grids_gdf.groupby('tile_idx')\n",
    "                                         .apply(recompute_population_by_grids)\n",
    "                                         .values)\n",
    "\n",
    "show(region, grids_gdf)"
   ]
  },
  {
   "cell_type": "code",
   "execution_count": 16,
   "metadata": {
    "execution": {
     "iopub.execute_input": "2020-11-07T08:06:50.601975Z",
     "iopub.status.busy": "2020-11-07T08:06:50.601629Z",
     "iopub.status.idle": "2020-11-07T08:06:50.608462Z",
     "shell.execute_reply": "2020-11-07T08:06:50.608111Z",
     "shell.execute_reply.started": "2020-11-07T07:35:23.515747Z"
    },
    "papermill": {
     "duration": 0.029115,
     "end_time": "2020-11-07T08:06:50.608550",
     "exception": false,
     "start_time": "2020-11-07T08:06:50.579435",
     "status": "completed"
    },
    "tags": []
   },
   "outputs": [
    {
     "data": {
      "text/html": [
       "<div>\n",
       "<style scoped>\n",
       "    .dataframe tbody tr th:only-of-type {\n",
       "        vertical-align: middle;\n",
       "    }\n",
       "\n",
       "    .dataframe tbody tr th {\n",
       "        vertical-align: top;\n",
       "    }\n",
       "\n",
       "    .dataframe thead th {\n",
       "        text-align: right;\n",
       "    }\n",
       "</style>\n",
       "<table border=\"1\" class=\"dataframe\">\n",
       "  <thead>\n",
       "    <tr style=\"text-align: right;\">\n",
       "      <th></th>\n",
       "      <th>idx</th>\n",
       "      <th>geometry</th>\n",
       "      <th>grid_building_area</th>\n",
       "      <th>grid_building_count</th>\n",
       "      <th>tile_idx</th>\n",
       "      <th>tile_population</th>\n",
       "      <th>tile_width</th>\n",
       "      <th>tile_height</th>\n",
       "    </tr>\n",
       "  </thead>\n",
       "  <tbody>\n",
       "    <tr>\n",
       "      <th>0</th>\n",
       "      <td>0</td>\n",
       "      <td>POLYGON ((439725.221 11606.155, 439817.962 116...</td>\n",
       "      <td>0.0</td>\n",
       "      <td>0</td>\n",
       "      <td>0</td>\n",
       "      <td>0.0</td>\n",
       "      <td>1</td>\n",
       "      <td>1</td>\n",
       "    </tr>\n",
       "    <tr>\n",
       "      <th>1</th>\n",
       "      <td>1</td>\n",
       "      <td>POLYGON ((439725.220 11514.046, 439817.960 115...</td>\n",
       "      <td>0.0</td>\n",
       "      <td>0</td>\n",
       "      <td>0</td>\n",
       "      <td>0.0</td>\n",
       "      <td>1</td>\n",
       "      <td>1</td>\n",
       "    </tr>\n",
       "    <tr>\n",
       "      <th>2</th>\n",
       "      <td>2</td>\n",
       "      <td>POLYGON ((439725.218 11421.937, 439817.959 114...</td>\n",
       "      <td>0.0</td>\n",
       "      <td>0</td>\n",
       "      <td>0</td>\n",
       "      <td>0.0</td>\n",
       "      <td>1</td>\n",
       "      <td>1</td>\n",
       "    </tr>\n",
       "    <tr>\n",
       "      <th>3</th>\n",
       "      <td>3</td>\n",
       "      <td>POLYGON ((439725.217 11329.829, 439817.957 113...</td>\n",
       "      <td>0.0</td>\n",
       "      <td>0</td>\n",
       "      <td>0</td>\n",
       "      <td>0.0</td>\n",
       "      <td>1</td>\n",
       "      <td>1</td>\n",
       "    </tr>\n",
       "    <tr>\n",
       "      <th>4</th>\n",
       "      <td>4</td>\n",
       "      <td>POLYGON ((439725.215 11237.720, 439817.956 112...</td>\n",
       "      <td>0.0</td>\n",
       "      <td>0</td>\n",
       "      <td>0</td>\n",
       "      <td>0.0</td>\n",
       "      <td>1</td>\n",
       "      <td>1</td>\n",
       "    </tr>\n",
       "  </tbody>\n",
       "</table>\n",
       "</div>"
      ],
      "text/plain": [
       "   idx                                           geometry  grid_building_area  \\\n",
       "0    0  POLYGON ((439725.221 11606.155, 439817.962 116...                 0.0   \n",
       "1    1  POLYGON ((439725.220 11514.046, 439817.960 115...                 0.0   \n",
       "2    2  POLYGON ((439725.218 11421.937, 439817.959 114...                 0.0   \n",
       "3    3  POLYGON ((439725.217 11329.829, 439817.957 113...                 0.0   \n",
       "4    4  POLYGON ((439725.215 11237.720, 439817.956 112...                 0.0   \n",
       "\n",
       "   grid_building_count  tile_idx  tile_population  tile_width  tile_height  \n",
       "0                    0         0              0.0           1            1  \n",
       "1                    0         0              0.0           1            1  \n",
       "2                    0         0              0.0           1            1  \n",
       "3                    0         0              0.0           1            1  \n",
       "4                    0         0              0.0           1            1  "
      ]
     },
     "execution_count": 16,
     "metadata": {},
     "output_type": "execute_result"
    }
   ],
   "source": [
    "#hide_input\n",
    "grids_gdf.head()"
   ]
  },
  {
   "cell_type": "markdown",
   "metadata": {
    "papermill": {
     "duration": 0.019603,
     "end_time": "2020-11-07T08:06:50.646350",
     "exception": false,
     "start_time": "2020-11-07T08:06:50.626747",
     "status": "completed"
    },
    "tags": []
   },
   "source": [
    "# Compute the Population at 100m x 100m GRID level\n",
    "\n",
    "For each grid, we have the TILE population, # of buildings inside it's boundary & the area of building inside it's boundary.\n",
    "\n",
    "We can statistically distribute the TILE population to the GRIDs by considering the building properties inside them. Like we discussed, buildings are a good proxy for human population.\n",
    "\n",
    "```\n",
    "# Tile population distributed by the ratio of # of buildings for each grid\n",
    "grid_population_count = tile_population * (grid_building_count / tile_building_count)\n",
    "\n",
    "# Tile population distributed by the ratio of area of buildings for each grid\n",
    "grid_population_area  = tile_population * (grid_building_area  / tile_building_area )\n",
    "\n",
    "grid_population = Weighted average of the above 2 metrics\n",
    "```"
   ]
  },
  {
   "cell_type": "markdown",
   "metadata": {
    "papermill": {
     "duration": 0.020135,
     "end_time": "2020-11-07T08:06:50.686699",
     "exception": false,
     "start_time": "2020-11-07T08:06:50.666564",
     "status": "completed"
    },
    "tags": []
   },
   "source": [
    "> Tip: If you would like to improve over this model, conside using DEM & DSM dataset, to find building heights & use it as a factor to distribute the population"
   ]
  },
  {
   "cell_type": "code",
   "execution_count": 17,
   "metadata": {
    "Collapsed": "false",
    "ExecuteTime": {
     "end_time": "2020-08-21T15:37:22.551007Z",
     "start_time": "2020-08-21T15:37:22.519531Z"
    },
    "execution": {
     "iopub.execute_input": "2020-11-07T08:06:50.732436Z",
     "iopub.status.busy": "2020-11-07T08:06:50.732054Z",
     "iopub.status.idle": "2020-11-07T08:06:50.745237Z",
     "shell.execute_reply": "2020-11-07T08:06:50.744897Z",
     "shell.execute_reply.started": "2020-11-07T07:35:27.875352Z"
    },
    "papermill": {
     "duration": 0.038477,
     "end_time": "2020-11-07T08:06:50.745319",
     "exception": false,
     "start_time": "2020-11-07T08:06:50.706842",
     "status": "completed"
    },
    "tags": []
   },
   "outputs": [
    {
     "data": {
      "text/html": [
       "<div>\n",
       "<style scoped>\n",
       "    .dataframe tbody tr th:only-of-type {\n",
       "        vertical-align: middle;\n",
       "    }\n",
       "\n",
       "    .dataframe tbody tr th {\n",
       "        vertical-align: top;\n",
       "    }\n",
       "\n",
       "    .dataframe thead th {\n",
       "        text-align: right;\n",
       "    }\n",
       "</style>\n",
       "<table border=\"1\" class=\"dataframe\">\n",
       "  <thead>\n",
       "    <tr style=\"text-align: right;\">\n",
       "      <th></th>\n",
       "      <th>idx</th>\n",
       "      <th>geometry</th>\n",
       "      <th>grid_building_area</th>\n",
       "      <th>grid_building_count</th>\n",
       "      <th>tile_idx</th>\n",
       "      <th>tile_population</th>\n",
       "      <th>tile_width</th>\n",
       "      <th>tile_height</th>\n",
       "      <th>tile_building_count</th>\n",
       "      <th>tile_building_area</th>\n",
       "      <th>grid_population</th>\n",
       "    </tr>\n",
       "  </thead>\n",
       "  <tbody>\n",
       "    <tr>\n",
       "      <th>0</th>\n",
       "      <td>0</td>\n",
       "      <td>POLYGON ((439725.221 11606.155, 439817.962 116...</td>\n",
       "      <td>0.0</td>\n",
       "      <td>0</td>\n",
       "      <td>0</td>\n",
       "      <td>0.0</td>\n",
       "      <td>1</td>\n",
       "      <td>1</td>\n",
       "      <td>0</td>\n",
       "      <td>0.0</td>\n",
       "      <td>0.0</td>\n",
       "    </tr>\n",
       "    <tr>\n",
       "      <th>1</th>\n",
       "      <td>1</td>\n",
       "      <td>POLYGON ((439725.220 11514.046, 439817.960 115...</td>\n",
       "      <td>0.0</td>\n",
       "      <td>0</td>\n",
       "      <td>0</td>\n",
       "      <td>0.0</td>\n",
       "      <td>1</td>\n",
       "      <td>1</td>\n",
       "      <td>0</td>\n",
       "      <td>0.0</td>\n",
       "      <td>0.0</td>\n",
       "    </tr>\n",
       "    <tr>\n",
       "      <th>2</th>\n",
       "      <td>2</td>\n",
       "      <td>POLYGON ((439725.218 11421.937, 439817.959 114...</td>\n",
       "      <td>0.0</td>\n",
       "      <td>0</td>\n",
       "      <td>0</td>\n",
       "      <td>0.0</td>\n",
       "      <td>1</td>\n",
       "      <td>1</td>\n",
       "      <td>0</td>\n",
       "      <td>0.0</td>\n",
       "      <td>0.0</td>\n",
       "    </tr>\n",
       "    <tr>\n",
       "      <th>3</th>\n",
       "      <td>3</td>\n",
       "      <td>POLYGON ((439725.217 11329.829, 439817.957 113...</td>\n",
       "      <td>0.0</td>\n",
       "      <td>0</td>\n",
       "      <td>0</td>\n",
       "      <td>0.0</td>\n",
       "      <td>1</td>\n",
       "      <td>1</td>\n",
       "      <td>0</td>\n",
       "      <td>0.0</td>\n",
       "      <td>0.0</td>\n",
       "    </tr>\n",
       "    <tr>\n",
       "      <th>4</th>\n",
       "      <td>4</td>\n",
       "      <td>POLYGON ((439725.215 11237.720, 439817.956 112...</td>\n",
       "      <td>0.0</td>\n",
       "      <td>0</td>\n",
       "      <td>0</td>\n",
       "      <td>0.0</td>\n",
       "      <td>1</td>\n",
       "      <td>1</td>\n",
       "      <td>0</td>\n",
       "      <td>0.0</td>\n",
       "      <td>0.0</td>\n",
       "    </tr>\n",
       "  </tbody>\n",
       "</table>\n",
       "</div>"
      ],
      "text/plain": [
       "   idx                                           geometry  grid_building_area  \\\n",
       "0    0  POLYGON ((439725.221 11606.155, 439817.962 116...                 0.0   \n",
       "1    1  POLYGON ((439725.220 11514.046, 439817.960 115...                 0.0   \n",
       "2    2  POLYGON ((439725.218 11421.937, 439817.959 114...                 0.0   \n",
       "3    3  POLYGON ((439725.217 11329.829, 439817.957 113...                 0.0   \n",
       "4    4  POLYGON ((439725.215 11237.720, 439817.956 112...                 0.0   \n",
       "\n",
       "   grid_building_count  tile_idx  tile_population  tile_width  tile_height  \\\n",
       "0                    0         0              0.0           1            1   \n",
       "1                    0         0              0.0           1            1   \n",
       "2                    0         0              0.0           1            1   \n",
       "3                    0         0              0.0           1            1   \n",
       "4                    0         0              0.0           1            1   \n",
       "\n",
       "   tile_building_count  tile_building_area  grid_population  \n",
       "0                    0                 0.0              0.0  \n",
       "1                    0                 0.0              0.0  \n",
       "2                    0                 0.0              0.0  \n",
       "3                    0                 0.0              0.0  \n",
       "4                    0                 0.0              0.0  "
      ]
     },
     "execution_count": 17,
     "metadata": {},
     "output_type": "execute_result"
    }
   ],
   "source": [
    "\n",
    "# Aggregate to get TILE stats\n",
    "grids_gdf[['tile_building_count', 'tile_building_area']] = grids_gdf.groupby('tile_idx')[['grid_building_count', 'grid_building_area']].transform('sum')\n",
    "\n",
    "# Statistically distribute the TILE population to GRIDs\n",
    "grids_gdf['grid_population'] = (0.5 * grids_gdf['tile_population'] * (grids_gdf['grid_building_count'] / grids_gdf['tile_building_count']) + \n",
    "                                0.5 * grids_gdf['tile_population'] * (grids_gdf['grid_building_area' ] / grids_gdf['tile_building_area' ]))\n",
    "\n",
    "grids_gdf.loc[:, 'grid_population'] = grids_gdf['grid_population'].fillna(0)\n",
    "\n",
    "grids_gdf.head()"
   ]
  },
  {
   "cell_type": "markdown",
   "metadata": {
    "Collapsed": "false",
    "papermill": {
     "duration": 0.020255,
     "end_time": "2020-11-07T08:06:50.784730",
     "exception": false,
     "start_time": "2020-11-07T08:06:50.764475",
     "status": "completed"
    },
    "tags": []
   },
   "source": [
    "# Let us look how the population distribution varies at 1km & 100m resolution"
   ]
  },
  {
   "cell_type": "code",
   "execution_count": 18,
   "metadata": {
    "Collapsed": "false",
    "ExecuteTime": {
     "end_time": "2020-08-21T15:48:48.499491Z",
     "start_time": "2020-08-21T15:48:44.159310Z"
    },
    "execution": {
     "iopub.execute_input": "2020-11-07T08:06:50.839576Z",
     "iopub.status.busy": "2020-11-07T08:06:50.839220Z",
     "iopub.status.idle": "2020-11-07T08:06:53.784242Z",
     "shell.execute_reply": "2020-11-07T08:06:53.784758Z",
     "shell.execute_reply.started": "2020-11-07T07:35:30.762634Z"
    },
    "papermill": {
     "duration": 2.979075,
     "end_time": "2020-11-07T08:06:53.784927",
     "exception": false,
     "start_time": "2020-11-07T08:06:50.805852",
     "status": "completed"
    },
    "tags": []
   },
   "outputs": [
    {
     "data": {
      "image/png": "[encoded data removed]",
      "text/plain": [
       "<Figure size 1440x1440 with 2 Axes>"
      ]
     },
     "metadata": {
      "needs_background": "light"
     },
     "output_type": "display_data"
    }
   ],
   "source": [
    "#hide_input\n",
    "fig, (ax1, ax2) = plt.subplots(1,2,figsize=(20, 20))\n",
    "grids_gdf.plot(ax=ax1, cmap='RdYlGn_r', edgecolor='black', alpha=1, column='tile_population', scheme='percentiles', legend=True)\n",
    "grids_gdf.plot(ax=ax2, cmap='RdYlGn_r', edgecolor='black', alpha=1, column='grid_population', scheme='percentiles', legend=True)\n",
    "\n",
    "ax1.set_title('GPW Population')\n",
    "ax2.set_title('Population at 100m resolution')\n",
    "ax1.set_axis_off()\n",
    "ax2.set_axis_off()"
   ]
  },
  {
   "cell_type": "markdown",
   "metadata": {
    "papermill": {
     "duration": 0.024762,
     "end_time": "2020-11-07T08:06:53.831528",
     "exception": false,
     "start_time": "2020-11-07T08:06:53.806766",
     "status": "completed"
    },
    "tags": []
   },
   "source": [
    "# Save the 100m x 100m GRID DataFrame\n",
    "\n",
    "> Tip: If you need the data for futher processing, consider using the feather format available in geopandas, it speeds up the reading & writing of GeoJSON files."
   ]
  },
  {
   "cell_type": "code",
   "execution_count": 19,
   "metadata": {
    "Collapsed": "false",
    "ExecuteTime": {
     "end_time": "2020-08-21T15:49:30.854615Z",
     "start_time": "2020-08-21T15:49:22.186466Z"
    },
    "execution": {
     "iopub.execute_input": "2020-11-07T08:06:53.887985Z",
     "iopub.status.busy": "2020-11-07T08:06:53.881657Z",
     "iopub.status.idle": "2020-11-07T08:06:55.437718Z",
     "shell.execute_reply": "2020-11-07T08:06:55.437245Z",
     "shell.execute_reply.started": "2020-11-07T07:35:35.974181Z"
    },
    "papermill": {
     "duration": 1.585728,
     "end_time": "2020-11-07T08:06:55.437814",
     "exception": false,
     "start_time": "2020-11-07T08:06:53.852086",
     "status": "completed"
    },
    "tags": []
   },
   "outputs": [],
   "source": [
    "grids_gdf.to_crs(WGS84).to_file(f'{OUTPUT/REGION}_grids_output_{WGS84}.geojson', driver='GeoJSON')"
   ]
  },
  {
   "cell_type": "markdown",
   "metadata": {
    "papermill": {
     "duration": 0.021341,
     "end_time": "2020-11-07T08:06:55.478514",
     "exception": false,
     "start_time": "2020-11-07T08:06:55.457173",
     "status": "completed"
    },
    "tags": []
   },
   "source": [
    "Hopefully, this gives you a fair idea on why & how to use Notebooks to create GeoSpatial workflows.\n",
    "\n",
    "In the next post, we will see how to automate notebook execution using papermill."
   ]
  },
  {
   "cell_type": "code",
   "execution_count": null,
   "metadata": {
    "papermill": {
     "duration": 0.021658,
     "end_time": "2020-11-07T08:06:55.521445",
     "exception": false,
     "start_time": "2020-11-07T08:06:55.499787",
     "status": "completed"
    },
    "tags": []
   },
   "outputs": [],
   "source": []
  }
 ],
 "metadata": {
  "kernelspec": {
   "display_name": "Python 3",
   "language": "python",
   "name": "python3"
  },
  "language_info": {
   "codemirror_mode": {
    "name": "ipython",
    "version": 3
   },
   "file_extension": ".py",
   "mimetype": "text/x-python",
   "name": "python",
   "nbconvert_exporter": "python",
   "pygments_lexer": "ipython3",
   "version": "3.7.7"
  },
  "papermill": {
   "duration": 21.530257,
   "end_time": "2020-11-07T08:06:55.948323",
   "environment_variables": {},
   "exception": null,
   "input_path": "2020-11-06-gridded-population.ipynb",
   "output_path": "nb-output/gridded-population-executed-entebbe_@_2020-11-07_01-36-34_PM.ipynb",
   "parameters": {
    "PIPELINE": "gridded-population",
    "REGION": "entebbe",
    "UTM": 32636
   },
   "start_time": "2020-11-07T08:06:34.418066",
   "version": "2.1.3"
  },
  "toc": {
   "base_numbering": 1,
   "nav_menu": {},
   "number_sections": true,
   "sideBar": true,
   "skip_h1_title": false,
   "title_cell": "Table of Contents",
   "title_sidebar": "Contents",
   "toc_cell": false,
   "toc_position": {},
   "toc_section_display": true,
   "toc_window_display": false
  }
 },
 "nbformat": 4,
 "nbformat_minor": 4
}
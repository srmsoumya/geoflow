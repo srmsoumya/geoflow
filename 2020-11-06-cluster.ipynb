{
 "cells": [
  {
   "cell_type": "code",
   "execution_count": null,
   "metadata": {
    "tags": [
     "parameters"
    ]
   },
   "outputs": [],
   "source": [
    "# Defaults\n",
    "REGION = 'fortportal'\n",
    "POP = 'grid_population'\n",
    "UTM = 32636\n",
    "CLUSTER_COUNT = 10"
   ]
  },
  {
   "cell_type": "code",
   "execution_count": null,
   "metadata": {},
   "outputs": [],
   "source": [
    "import pandas as pd\n",
    "import numpy as np\n",
    "import geopandas as gpd\n",
    "import matplotlib.pyplot as plt\n",
    "import seaborn as sns\n",
    "import warnings\n",
    "\n",
    "from sklearn import cluster\n",
    "from pathlib import Path\n",
    "from pysal.lib import weights\n",
    "from pysal.explore import esda\n",
    "from splot.esda import moran_scatterplot, lisa_cluster, plot_local_autocorrelation\n",
    "\n",
    "\n",
    "warnings.filterwarnings('ignore')\n",
    "plt.style.use('fivethirtyeight')\n",
    "%matplotlib inline"
   ]
  },
  {
   "cell_type": "code",
   "execution_count": null,
   "metadata": {},
   "outputs": [],
   "source": [
    "CWD = Path('.')\n",
    "DATA = Path('data')\n",
    "\n",
    "INTER  = DATA/'inter'\n",
    "INPUT  = DATA/'input'\n",
    "OUTPUT = DATA/'output'"
   ]
  },
  {
   "cell_type": "code",
   "execution_count": null,
   "metadata": {},
   "outputs": [],
   "source": [
    "!ls {OUTPUT} | grep {REGION}"
   ]
  },
  {
   "cell_type": "code",
   "execution_count": null,
   "metadata": {},
   "outputs": [],
   "source": [
    "grids_gdf = gpd.read_file(f'{OUTPUT}/{REGION}_grids_output_{4326}.geojson').to_crs(epsg=UTM)"
   ]
  },
  {
   "cell_type": "code",
   "execution_count": null,
   "metadata": {},
   "outputs": [],
   "source": [
    "grids_gdf.plot(figsize=(10,10), cmap='RdYlGn_r', edgecolor='black', alpha=1, column=POP, scheme='percentiles', legend=True)\n",
    "plt.gca().set_axis_off()"
   ]
  },
  {
   "cell_type": "code",
   "execution_count": null,
   "metadata": {},
   "outputs": [],
   "source": [
    "grids_gdf.head()"
   ]
  },
  {
   "cell_type": "code",
   "execution_count": null,
   "metadata": {},
   "outputs": [],
   "source": [
    "def make_copy(gdf): return gdf.copy()"
   ]
  },
  {
   "cell_type": "code",
   "execution_count": null,
   "metadata": {},
   "outputs": [],
   "source": [
    "def moran_cluster(gdf):\n",
    "    w = weights.Queen.from_dataframe(gdf, idVariable='idx')\n",
    "    gdf = gdf[~gdf.idx.isin(w.islands)]\n",
    "    w = weights.Queen.from_dataframe(gdf, idVariable='idx')\n",
    "    w.tranform = 'R'\n",
    "    gdf[f'w_{POP}'] = weights.lag_spatial(w, gdf[POP])\n",
    "    # MI = esda.Moran(gdf[f'w_{POP}'], w)\n",
    "    LISA = esda.Moran_Local(gdf[f'w_{POP}'], w) \n",
    "    gdf['significance'] = LISA.p_sim < 0.05\n",
    "    gdf['_quad'] = LISA.q\n",
    "    gdf['quad'] = gdf['_quad'].replace({\n",
    "        1: 'HH',\n",
    "        2: 'LH',\n",
    "        3: 'LL',\n",
    "        4: 'HL'\n",
    "    })\n",
    "    \n",
    "    moran_dissolved_gdf = (gdf[['geometry', 'grid_population', 'grid_building_count', 'grid_building_area', 'quad']]\n",
    "            .dissolve(by='quad', aggfunc='mean')\n",
    "            .reset_index())\n",
    "    \n",
    "    return gdf, LISA, moran_dissolved_gdf"
   ]
  },
  {
   "cell_type": "markdown",
   "metadata": {},
   "source": [
    "# Cluster regions based on Moran Index"
   ]
  },
  {
   "cell_type": "code",
   "execution_count": null,
   "metadata": {},
   "outputs": [],
   "source": [
    "moran_gdf, LISA, moran_dissolved_gdf = grids_gdf.pipe(make_copy).pipe(moran_cluster)"
   ]
  },
  {
   "cell_type": "code",
   "execution_count": null,
   "metadata": {},
   "outputs": [],
   "source": [
    "moran_gdf.head()"
   ]
  },
  {
   "cell_type": "code",
   "execution_count": null,
   "metadata": {},
   "outputs": [],
   "source": [
    "moran_gdf['quad'].value_counts()"
   ]
  },
  {
   "cell_type": "code",
   "execution_count": null,
   "metadata": {},
   "outputs": [],
   "source": [
    "fig, ax = plt.subplots(1,1,figsize=(10, 10))\n",
    "lisa_cluster(LISA, moran_gdf, ax=ax)"
   ]
  },
  {
   "cell_type": "code",
   "execution_count": null,
   "metadata": {},
   "outputs": [],
   "source": [
    "plot_local_autocorrelation(LISA, moran_gdf, f'w_{POP}', figsize=(20, 10))"
   ]
  },
  {
   "cell_type": "code",
   "execution_count": null,
   "metadata": {},
   "outputs": [],
   "source": [
    "fig, (ax1, ax2) = plt.subplots(1,2, figsize=(20, 20))\n",
    "\n",
    "moran_gdf.plot(ax=ax1, cmap='tab20b', edgecolor='black', categorical=True, column='quad', figsize=(20, 20), legend=True)\n",
    "moran_dissolved_gdf.plot(ax=ax2, cmap='tab20b', edgecolor='black', categorical=True, column='quad', figsize=(20, 20), legend=True)\n",
    "ax1.set_axis_off()\n",
    "ax2.set_axis_off()"
   ]
  },
  {
   "cell_type": "markdown",
   "metadata": {},
   "source": [
    "# Cluster regions based on K-Means"
   ]
  },
  {
   "cell_type": "code",
   "execution_count": null,
   "metadata": {},
   "outputs": [],
   "source": [
    "def kmeans_cluster(gdf, k=CLUSTER_COUNT):\n",
    "    k_score = cluster.KMeans(n_clusters=k)\n",
    "    gdf['k_score'] = k_score.fit(gdf[['grid_population']]).labels_\n",
    "    kmeans_dissolved_gdf = (gdf[['geometry', 'grid_population', 'grid_building_count', 'grid_building_area', 'k_score']]\n",
    "                    .dissolve(by='k_score', aggfunc='mean')\n",
    "                    .reset_index())\n",
    "    \n",
    "    return gdf, kmeans_dissolved_gdf"
   ]
  },
  {
   "cell_type": "code",
   "execution_count": null,
   "metadata": {},
   "outputs": [],
   "source": [
    "kmeans_gdf, kmeans_dissolved_gdf = grids_gdf.pipe(make_copy).pipe(kmeans_cluster)"
   ]
  },
  {
   "cell_type": "code",
   "execution_count": null,
   "metadata": {},
   "outputs": [],
   "source": [
    "kmeans_gdf.head()"
   ]
  },
  {
   "cell_type": "code",
   "execution_count": null,
   "metadata": {},
   "outputs": [],
   "source": [
    "kmeans_dissolved_gdf"
   ]
  },
  {
   "cell_type": "code",
   "execution_count": null,
   "metadata": {},
   "outputs": [],
   "source": [
    "fig, (ax1, ax2) = plt.subplots(1,2, figsize=(20, 20))\n",
    "\n",
    "kmeans_gdf.plot(ax=ax1, cmap='tab20b', edgecolor='black', column='k_score', categorical=True, figsize=(20, 20), legend=True)\n",
    "kmeans_dissolved_gdf.plot(ax=ax2, cmap='tab20b', edgecolor='black', column='k_score', categorical=True, figsize=(20, 20), legend=True)\n",
    "ax1.set_axis_off()\n",
    "ax2.set_axis_off()"
   ]
  },
  {
   "cell_type": "markdown",
   "metadata": {},
   "source": [
    "# Cluster regions based on spatial similarity"
   ]
  },
  {
   "cell_type": "code",
   "execution_count": null,
   "metadata": {},
   "outputs": [],
   "source": [
    "def agglomerative_cluster(gdf, k=CLUSTER_COUNT*2):\n",
    "    w = weights.Queen.from_dataframe(gdf)\n",
    "    a_score = cluster.AgglomerativeClustering(n_clusters=k, connectivity=w.sparse) \n",
    "    gdf['a_score'] = a_score.fit(gdf[['grid_population']]).labels_\n",
    "    agglomerative_dissolved_gdf = (gdf[['geometry', 'grid_population', 'grid_building_count', 'grid_building_area', 'a_score']]\n",
    "                                       .dissolve(by='a_score', aggfunc='mean')\n",
    "                                       .reset_index())\n",
    "    \n",
    "    return gdf, agglomerative_dissolved_gdf"
   ]
  },
  {
   "cell_type": "code",
   "execution_count": null,
   "metadata": {},
   "outputs": [],
   "source": [
    "agglomerative_gdf, agglomerative_dissolved_gdf = agglomerative_cluster(grids_gdf)"
   ]
  },
  {
   "cell_type": "code",
   "execution_count": null,
   "metadata": {},
   "outputs": [],
   "source": [
    "agglomerative_gdf.head()"
   ]
  },
  {
   "cell_type": "code",
   "execution_count": null,
   "metadata": {},
   "outputs": [],
   "source": [
    "agglomerative_dissolved_gdf"
   ]
  },
  {
   "cell_type": "code",
   "execution_count": null,
   "metadata": {},
   "outputs": [],
   "source": [
    "fig, (ax1, ax2) = plt.subplots(1,2, figsize=(20, 20))\n",
    "\n",
    "agglomerative_gdf.plot(ax=ax1, cmap='tab20b', edgecolor='black', column='a_score', categorical=True, figsize=(20, 20), legend=True)\n",
    "agglomerative_dissolved_gdf.plot(ax=ax2, cmap='tab20b', edgecolor='black', column='a_score', categorical=True, figsize=(20, 20), legend=True)\n",
    "\n",
    "ax1.set_axis_off()\n",
    "ax2.set_axis_off()"
   ]
  },
  {
   "cell_type": "markdown",
   "metadata": {},
   "source": [
    "### Save the analysed results"
   ]
  },
  {
   "cell_type": "code",
   "execution_count": null,
   "metadata": {},
   "outputs": [],
   "source": [
    "moran_dissolved_gdf.to_crs(epsg=4326).to_file(f'{OUTPUT/REGION}_moran.geojson', driver='GeoJSON')\n",
    "kmeans_dissolved_gdf.to_crs(epsg=4326).to_file(f'{OUTPUT/REGION}_kmeans.geojson', driver='GeoJSON')\n",
    "agglomerative_dissolved_gdf.to_crs(epsg=4326).to_file(f'{OUTPUT/REGION}_agglomerative.geojson', driver='GeoJSON')"
   ]
  },
  {
   "cell_type": "code",
   "execution_count": null,
   "metadata": {},
   "outputs": [],
   "source": []
  }
 ],
 "metadata": {
  "kernelspec": {
   "display_name": "Python 3",
   "language": "python",
   "name": "python3"
  },
  "language_info": {
   "codemirror_mode": {
    "name": "ipython",
    "version": 3
   },
   "file_extension": ".py",
   "mimetype": "text/x-python",
   "name": "python",
   "nbconvert_exporter": "python",
   "pygments_lexer": "ipython3",
   "version": "3.7.3"
  }
 },
 "nbformat": 4,
 "nbformat_minor": 4
}

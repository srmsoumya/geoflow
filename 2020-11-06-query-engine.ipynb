{
 "cells": [
  {
   "cell_type": "code",
   "execution_count": null,
   "metadata": {
    "Collapsed": "false",
    "tags": [
     "parameters"
    ]
   },
   "outputs": [],
   "source": [
    "# Defaults\n",
    "REGION = 'fortportal'\n",
    "UTM = 32636\n",
    "PIPELINE = 'output'\n",
    "POP = 'grid_population'"
   ]
  },
  {
   "cell_type": "code",
   "execution_count": null,
   "metadata": {
    "Collapsed": "false"
   },
   "outputs": [],
   "source": [
    "import pandas as pd\n",
    "import numpy as np\n",
    "import geopandas as gpd\n",
    "import matplotlib.pyplot as plt\n",
    "import seaborn as sns\n",
    "\n",
    "from datetime import datetime as dt\n",
    "from pathlib import Path\n",
    "\n",
    "plt.style.use('fivethirtyeight')\n",
    "%matplotlib inline"
   ]
  },
  {
   "cell_type": "code",
   "execution_count": null,
   "metadata": {
    "Collapsed": "false"
   },
   "outputs": [],
   "source": [
    "CWD = Path('.')\n",
    "DATA = Path('data')\n",
    "\n",
    "INTER  = DATA/'inter'\n",
    "INPUT  = DATA/'input'\n",
    "OUTPUT = DATA/'output'"
   ]
  },
  {
   "cell_type": "code",
   "execution_count": null,
   "metadata": {
    "Collapsed": "false"
   },
   "outputs": [],
   "source": [
    "!ls {DATA}"
   ]
  },
  {
   "cell_type": "code",
   "execution_count": null,
   "metadata": {
    "Collapsed": "false"
   },
   "outputs": [],
   "source": [
    "!ls {OUTPUT} | grep {REGION}"
   ]
  },
  {
   "cell_type": "code",
   "execution_count": null,
   "metadata": {
    "Collapsed": "false"
   },
   "outputs": [],
   "source": [
    "grids_gdf = gpd.read_file(f'{OUTPUT}/{REGION}_grids_output_{4326}.geojson').to_crs(epsg=UTM)\n",
    "region = gpd.read_file(f'{INPUT/REGION}.geojson').to_crs(grids_gdf.crs)"
   ]
  },
  {
   "cell_type": "code",
   "execution_count": null,
   "metadata": {
    "Collapsed": "false"
   },
   "outputs": [],
   "source": [
    "region.crs, grids_gdf.crs"
   ]
  },
  {
   "cell_type": "code",
   "execution_count": null,
   "metadata": {
    "Collapsed": "false"
   },
   "outputs": [],
   "source": [
    "def show(region, gdf, col):\n",
    "    fig, ax = plt.subplots(1,1,figsize=(10, 10))\n",
    "    ax.set_axis_off()\n",
    "    \n",
    "    gdf.plot(ax=ax, cmap='RdYlGn_r', alpha=0.8, column=col, scheme='percentiles', legend=True)\n",
    "    region.boundary.plot(ax=ax, color='darkgray', alpha=0.8)"
   ]
  },
  {
   "cell_type": "code",
   "execution_count": null,
   "metadata": {
    "Collapsed": "false"
   },
   "outputs": [],
   "source": [
    "show(region, grids_gdf, POP)"
   ]
  },
  {
   "cell_type": "markdown",
   "metadata": {
    "Collapsed": "false"
   },
   "source": [
    "### Analyse the population count data"
   ]
  },
  {
   "cell_type": "code",
   "execution_count": null,
   "metadata": {
    "Collapsed": "false"
   },
   "outputs": [],
   "source": [
    "grids_gdf.grid_population.plot(kind='hist', bins=100, logy=True)"
   ]
  },
  {
   "cell_type": "code",
   "execution_count": null,
   "metadata": {
    "Collapsed": "false"
   },
   "outputs": [],
   "source": [
    "def _population(gdf, col, percentage=None, cutoff=None, top=True):\n",
    "    total_pop = gdf[col].sum()\n",
    "    gdf = gdf.sort_values(by=col, ascending=False)\n",
    "    gdf[\"pop_percentile\"] = (gdf[col].cumsum() / total_pop * 100).astype(np.float32)\n",
    "\n",
    "    if percentage:\n",
    "        if top:\n",
    "            gdf = gdf.query(\"pop_percentile <= @percentage\")\n",
    "        else:\n",
    "            gdf = gdf.query(\"pop_percentile > (100 - @percentage)\")\n",
    "\n",
    "    if cutoff:\n",
    "        if top:\n",
    "            gdf = gdf.query(f\"{col} >= @cutoff\")\n",
    "        else:\n",
    "            gdf = gdf.query(f\"{col} <  @cutoff\")\n",
    "            \n",
    "    return gdf[['idx', 'geometry', 'grid_population']]"
   ]
  },
  {
   "cell_type": "code",
   "execution_count": null,
   "metadata": {
    "Collapsed": "false"
   },
   "outputs": [],
   "source": [
    "population = _population(grids_gdf, POP, percentage=50)"
   ]
  },
  {
   "cell_type": "code",
   "execution_count": null,
   "metadata": {},
   "outputs": [],
   "source": [
    "population.shape"
   ]
  },
  {
   "cell_type": "code",
   "execution_count": null,
   "metadata": {
    "Collapsed": "false"
   },
   "outputs": [],
   "source": [
    "show(region, _population(grids_gdf, POP, percentage=50), POP)"
   ]
  },
  {
   "cell_type": "code",
   "execution_count": null,
   "metadata": {},
   "outputs": [],
   "source": [
    "def _building(gdf, metrics='area'):\n",
    "    return gdf[['idx', 'geometry', f'grid_building_{metrics}']]"
   ]
  },
  {
   "cell_type": "code",
   "execution_count": null,
   "metadata": {},
   "outputs": [],
   "source": [
    "building = _building(grids_gdf, metrics='count')"
   ]
  },
  {
   "cell_type": "code",
   "execution_count": null,
   "metadata": {},
   "outputs": [],
   "source": [
    "building.plot(figsize=(10, 10), cmap='RdYlGn_r', column='grid_building_count', scheme='percentiles', legend=True)\n",
    "plt.gca().set_axis_off()"
   ]
  },
  {
   "cell_type": "code",
   "execution_count": null,
   "metadata": {
    "Collapsed": "false"
   },
   "outputs": [],
   "source": [
    "def _pairings(gdf):\n",
    "    step_stats = list()\n",
    "    for step in list(range(5, 100, 5)) + [99, 100]:\n",
    "        per_df = _population(gdf, POP, percentage=step)\n",
    "        step_stats.append(\n",
    "            {\n",
    "                \"per\": step,\n",
    "                \"pop\": per_df[POP].sum(),\n",
    "                \"area\": per_df.geometry.area.sum() / 1000000,\n",
    "                \"unit\": \"sq. km\",\n",
    "            }\n",
    "        )\n",
    "\n",
    "    return step_stats"
   ]
  },
  {
   "cell_type": "code",
   "execution_count": null,
   "metadata": {
    "Collapsed": "false"
   },
   "outputs": [],
   "source": [
    "pairings = pd.DataFrame(_pairings(grids_gdf))"
   ]
  },
  {
   "cell_type": "code",
   "execution_count": null,
   "metadata": {
    "Collapsed": "false"
   },
   "outputs": [],
   "source": [
    "(pairings\n",
    "    .style\n",
    "    .bar(subset='area'))"
   ]
  },
  {
   "cell_type": "code",
   "execution_count": null,
   "metadata": {
    "Collapsed": "false"
   },
   "outputs": [],
   "source": [
    "sns.lineplot(x=pairings.per, y=pairings.area)"
   ]
  },
  {
   "cell_type": "code",
   "execution_count": null,
   "metadata": {
    "Collapsed": "false"
   },
   "outputs": [],
   "source": [
    "def _stats(gdf):\n",
    "    m2km = 1000000\n",
    "    return {\n",
    "        \"area\": f\"{gdf.geometry.area.sum() / m2km:.2f} sq. km\",\n",
    "        \"pop\": f\"{gdf[POP].sum():,.0f}\",\n",
    "        \"release_area\": f'{gdf.query(f\"{POP} > 0\").geometry.area.sum() / m2km:.2f} sq. km',\n",
    "        \"exclusion_area\": f'{gdf.query(f\"{POP} <= 0\").geometry.area.sum() / m2km:.2f} sq. km',\n",
    "        \"analysis_date\": dt.now().strftime(\"%Y-%m-%d %I-%M-%S %p\"),\n",
    "        \"pop_stats\": {\n",
    "            \"min\": f\"{gdf[POP].min():,.2f}\",\n",
    "            \"max\": f\"{gdf[POP].max():,.2f}\",\n",
    "            \"mean\": f\"{gdf[POP].mean():,.2f}\",\n",
    "            \"median\": f\"{gdf[POP].median():,.2f}\",\n",
    "        },\n",
    "        \"building_stats\": {\n",
    "            \"min_area\": f\"{gdf.grid_building_area.min()  } sq. m\",\n",
    "            \"max_area\": f\"{gdf.grid_building_area.max()  } sq. m\",\n",
    "            \"mean_area\": f\"{gdf.grid_building_area.mean() } sq. m\",\n",
    "            \"min_count\": f\"{gdf.grid_building_count.min() }\",\n",
    "            \"max_count\": f\"{gdf.grid_building_count.max() }\",\n",
    "            \"mean_count\": f\"{int(gdf.grid_building_count.mean())}\",\n",
    "        },\n",
    "    }"
   ]
  },
  {
   "cell_type": "code",
   "execution_count": null,
   "metadata": {
    "Collapsed": "false"
   },
   "outputs": [],
   "source": [
    "stats = _stats(grids_gdf)"
   ]
  },
  {
   "cell_type": "code",
   "execution_count": null,
   "metadata": {
    "Collapsed": "false"
   },
   "outputs": [],
   "source": [
    "stats"
   ]
  },
  {
   "cell_type": "code",
   "execution_count": null,
   "metadata": {},
   "outputs": [],
   "source": []
  }
 ],
 "metadata": {
  "kernelspec": {
   "display_name": "Python 3",
   "language": "python",
   "name": "python3"
  },
  "language_info": {
   "codemirror_mode": {
    "name": "ipython",
    "version": 3
   },
   "file_extension": ".py",
   "mimetype": "text/x-python",
   "name": "python",
   "nbconvert_exporter": "python",
   "pygments_lexer": "ipython3",
   "version": "3.7.3"
  }
 },
 "nbformat": 4,
 "nbformat_minor": 4
}
